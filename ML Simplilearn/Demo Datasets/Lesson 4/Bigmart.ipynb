{
 "metadata": {
  "language_info": {
   "codemirror_mode": {
    "name": "ipython",
    "version": 3
   },
   "file_extension": ".py",
   "mimetype": "text/x-python",
   "name": "python",
   "nbconvert_exporter": "python",
   "pygments_lexer": "ipython3",
   "version": "3.8.5-final"
  },
  "orig_nbformat": 2,
  "kernelspec": {
   "name": "python38564bit45cca42702fd4d1693536a667e888c88",
   "display_name": "Python 3.8.5 64-bit",
   "language": "python"
  }
 },
 "nbformat": 4,
 "nbformat_minor": 2,
 "cells": [
  {
   "cell_type": "code",
   "execution_count": 3,
   "metadata": {},
   "outputs": [],
   "source": [
    "import pandas as pd \n",
    "import numpy as np \n",
    "from sklearn.linear_model import LinearRegression\n",
    "from sklearn.metrics import r2_score, mean_absolute_error, mean_squared_error\n",
    "from sklearn import preprocessing\n"
   ]
  },
  {
   "cell_type": "code",
   "execution_count": 5,
   "metadata": {},
   "outputs": [],
   "source": [
    "train = pd.read_csv('/home/achintya/Desktop/CODES/ML Simplilearn/Demo Datasets/Lesson 4/bigmart_train.csv')\n",
    "test = pd.read_csv('/home/achintya/Desktop/CODES/ML Simplilearn/Demo Datasets/Lesson 4/bigmart_test.csv')"
   ]
  },
  {
   "cell_type": "code",
   "execution_count": 7,
   "metadata": {},
   "outputs": [
    {
     "output_type": "execute_result",
     "data": {
      "text/plain": [
       "  Item_Identifier  Item_Weight Item_Fat_Content  Item_Visibility  \\\n",
       "0           FDA15         9.30          Low Fat         0.016047   \n",
       "1           DRC01         5.92          Regular         0.019278   \n",
       "2           FDN15        17.50          Low Fat         0.016760   \n",
       "3           FDX07        19.20          Regular         0.000000   \n",
       "4           NCD19         8.93          Low Fat         0.000000   \n",
       "\n",
       "               Item_Type  Item_MRP Outlet_Identifier  \\\n",
       "0                  Dairy  249.8092            OUT049   \n",
       "1            Soft Drinks   48.2692            OUT018   \n",
       "2                   Meat  141.6180            OUT049   \n",
       "3  Fruits and Vegetables  182.0950            OUT010   \n",
       "4              Household   53.8614            OUT013   \n",
       "\n",
       "   Outlet_Establishment_Year Outlet_Size Outlet_Location_Type  \\\n",
       "0                       1999      Medium               Tier 1   \n",
       "1                       2009      Medium               Tier 3   \n",
       "2                       1999      Medium               Tier 1   \n",
       "3                       1998         NaN               Tier 3   \n",
       "4                       1987        High               Tier 3   \n",
       "\n",
       "         Outlet_Type  Item_Outlet_Sales  \n",
       "0  Supermarket Type1          3735.1380  \n",
       "1  Supermarket Type2           443.4228  \n",
       "2  Supermarket Type1          2097.2700  \n",
       "3      Grocery Store           732.3800  \n",
       "4  Supermarket Type1           994.7052  "
      ],
      "text/html": "<div>\n<style scoped>\n    .dataframe tbody tr th:only-of-type {\n        vertical-align: middle;\n    }\n\n    .dataframe tbody tr th {\n        vertical-align: top;\n    }\n\n    .dataframe thead th {\n        text-align: right;\n    }\n</style>\n<table border=\"1\" class=\"dataframe\">\n  <thead>\n    <tr style=\"text-align: right;\">\n      <th></th>\n      <th>Item_Identifier</th>\n      <th>Item_Weight</th>\n      <th>Item_Fat_Content</th>\n      <th>Item_Visibility</th>\n      <th>Item_Type</th>\n      <th>Item_MRP</th>\n      <th>Outlet_Identifier</th>\n      <th>Outlet_Establishment_Year</th>\n      <th>Outlet_Size</th>\n      <th>Outlet_Location_Type</th>\n      <th>Outlet_Type</th>\n      <th>Item_Outlet_Sales</th>\n    </tr>\n  </thead>\n  <tbody>\n    <tr>\n      <th>0</th>\n      <td>FDA15</td>\n      <td>9.30</td>\n      <td>Low Fat</td>\n      <td>0.016047</td>\n      <td>Dairy</td>\n      <td>249.8092</td>\n      <td>OUT049</td>\n      <td>1999</td>\n      <td>Medium</td>\n      <td>Tier 1</td>\n      <td>Supermarket Type1</td>\n      <td>3735.1380</td>\n    </tr>\n    <tr>\n      <th>1</th>\n      <td>DRC01</td>\n      <td>5.92</td>\n      <td>Regular</td>\n      <td>0.019278</td>\n      <td>Soft Drinks</td>\n      <td>48.2692</td>\n      <td>OUT018</td>\n      <td>2009</td>\n      <td>Medium</td>\n      <td>Tier 3</td>\n      <td>Supermarket Type2</td>\n      <td>443.4228</td>\n    </tr>\n    <tr>\n      <th>2</th>\n      <td>FDN15</td>\n      <td>17.50</td>\n      <td>Low Fat</td>\n      <td>0.016760</td>\n      <td>Meat</td>\n      <td>141.6180</td>\n      <td>OUT049</td>\n      <td>1999</td>\n      <td>Medium</td>\n      <td>Tier 1</td>\n      <td>Supermarket Type1</td>\n      <td>2097.2700</td>\n    </tr>\n    <tr>\n      <th>3</th>\n      <td>FDX07</td>\n      <td>19.20</td>\n      <td>Regular</td>\n      <td>0.000000</td>\n      <td>Fruits and Vegetables</td>\n      <td>182.0950</td>\n      <td>OUT010</td>\n      <td>1998</td>\n      <td>NaN</td>\n      <td>Tier 3</td>\n      <td>Grocery Store</td>\n      <td>732.3800</td>\n    </tr>\n    <tr>\n      <th>4</th>\n      <td>NCD19</td>\n      <td>8.93</td>\n      <td>Low Fat</td>\n      <td>0.000000</td>\n      <td>Household</td>\n      <td>53.8614</td>\n      <td>OUT013</td>\n      <td>1987</td>\n      <td>High</td>\n      <td>Tier 3</td>\n      <td>Supermarket Type1</td>\n      <td>994.7052</td>\n    </tr>\n  </tbody>\n</table>\n</div>"
     },
     "metadata": {},
     "execution_count": 7
    }
   ],
   "source": [
    "train.head()"
   ]
  },
  {
   "cell_type": "code",
   "execution_count": 9,
   "metadata": {},
   "outputs": [
    {
     "output_type": "execute_result",
     "data": {
      "text/plain": [
       "(8523, 12)"
      ]
     },
     "metadata": {},
     "execution_count": 9
    }
   ],
   "source": [
    "train.shape"
   ]
  },
  {
   "cell_type": "code",
   "execution_count": 11,
   "metadata": {},
   "outputs": [
    {
     "output_type": "execute_result",
     "data": {
      "text/plain": [
       "Item_Identifier                 0\n",
       "Item_Weight                  1463\n",
       "Item_Fat_Content                0\n",
       "Item_Visibility                 0\n",
       "Item_Type                       0\n",
       "Item_MRP                        0\n",
       "Outlet_Identifier               0\n",
       "Outlet_Establishment_Year       0\n",
       "Outlet_Size                  2410\n",
       "Outlet_Location_Type            0\n",
       "Outlet_Type                     0\n",
       "Item_Outlet_Sales               0\n",
       "dtype: int64"
      ]
     },
     "metadata": {},
     "execution_count": 11
    }
   ],
   "source": [
    "train.isnull().sum()"
   ]
  },
  {
   "cell_type": "code",
   "execution_count": 13,
   "metadata": {},
   "outputs": [
    {
     "output_type": "execute_result",
     "data": {
      "text/plain": [
       "array(['Low Fat', 'Regular', 'low fat', 'LF', 'reg'], dtype=object)"
      ]
     },
     "metadata": {},
     "execution_count": 13
    }
   ],
   "source": [
    "train['Item_Fat_Content'].unique()"
   ]
  },
  {
   "cell_type": "code",
   "execution_count": 15,
   "metadata": {},
   "outputs": [],
   "source": [
    "train['Outlet_Age']=2021 - train['Outlet_Establishment_Year']"
   ]
  },
  {
   "cell_type": "code",
   "execution_count": 17,
   "metadata": {},
   "outputs": [
    {
     "output_type": "execute_result",
     "data": {
      "text/plain": [
       "array(['Medium', nan, 'High', 'Small'], dtype=object)"
      ]
     },
     "metadata": {},
     "execution_count": 17
    }
   ],
   "source": [
    "train['Outlet_Size'].unique()"
   ]
  },
  {
   "cell_type": "code",
   "execution_count": 19,
   "metadata": {},
   "outputs": [
    {
     "output_type": "execute_result",
     "data": {
      "text/plain": [
       "<bound method NDFrame.describe of      Item_Identifier  Item_Weight Item_Fat_Content  Item_Visibility  \\\n",
       "0              FDA15        9.300          Low Fat         0.016047   \n",
       "1              DRC01        5.920          Regular         0.019278   \n",
       "2              FDN15       17.500          Low Fat         0.016760   \n",
       "3              FDX07       19.200          Regular         0.000000   \n",
       "4              NCD19        8.930          Low Fat         0.000000   \n",
       "...              ...          ...              ...              ...   \n",
       "8518           FDF22        6.865          Low Fat         0.056783   \n",
       "8519           FDS36        8.380          Regular         0.046982   \n",
       "8520           NCJ29       10.600          Low Fat         0.035186   \n",
       "8521           FDN46        7.210          Regular         0.145221   \n",
       "8522           DRG01       14.800          Low Fat         0.044878   \n",
       "\n",
       "                  Item_Type  Item_MRP Outlet_Identifier  \\\n",
       "0                     Dairy  249.8092            OUT049   \n",
       "1               Soft Drinks   48.2692            OUT018   \n",
       "2                      Meat  141.6180            OUT049   \n",
       "3     Fruits and Vegetables  182.0950            OUT010   \n",
       "4                 Household   53.8614            OUT013   \n",
       "...                     ...       ...               ...   \n",
       "8518            Snack Foods  214.5218            OUT013   \n",
       "8519           Baking Goods  108.1570            OUT045   \n",
       "8520     Health and Hygiene   85.1224            OUT035   \n",
       "8521            Snack Foods  103.1332            OUT018   \n",
       "8522            Soft Drinks   75.4670            OUT046   \n",
       "\n",
       "      Outlet_Establishment_Year Outlet_Size Outlet_Location_Type  \\\n",
       "0                          1999      Medium               Tier 1   \n",
       "1                          2009      Medium               Tier 3   \n",
       "2                          1999      Medium               Tier 1   \n",
       "3                          1998         NaN               Tier 3   \n",
       "4                          1987        High               Tier 3   \n",
       "...                         ...         ...                  ...   \n",
       "8518                       1987        High               Tier 3   \n",
       "8519                       2002         NaN               Tier 2   \n",
       "8520                       2004       Small               Tier 2   \n",
       "8521                       2009      Medium               Tier 3   \n",
       "8522                       1997       Small               Tier 1   \n",
       "\n",
       "            Outlet_Type  Item_Outlet_Sales  Outlet_Age  \n",
       "0     Supermarket Type1          3735.1380          22  \n",
       "1     Supermarket Type2           443.4228          12  \n",
       "2     Supermarket Type1          2097.2700          22  \n",
       "3         Grocery Store           732.3800          23  \n",
       "4     Supermarket Type1           994.7052          34  \n",
       "...                 ...                ...         ...  \n",
       "8518  Supermarket Type1          2778.3834          34  \n",
       "8519  Supermarket Type1           549.2850          19  \n",
       "8520  Supermarket Type1          1193.1136          17  \n",
       "8521  Supermarket Type2          1845.5976          12  \n",
       "8522  Supermarket Type1           765.6700          24  \n",
       "\n",
       "[8523 rows x 13 columns]>"
      ]
     },
     "metadata": {},
     "execution_count": 19
    }
   ],
   "source": [
    "train.describe"
   ]
  },
  {
   "cell_type": "code",
   "execution_count": 21,
   "metadata": {},
   "outputs": [
    {
     "output_type": "execute_result",
     "data": {
      "text/plain": [
       "Low Fat    5089\n",
       "Regular    2889\n",
       "LF          316\n",
       "reg         117\n",
       "low fat     112\n",
       "Name: Item_Fat_Content, dtype: int64"
      ]
     },
     "metadata": {},
     "execution_count": 21
    }
   ],
   "source": [
    "train['Item_Fat_Content'].value_counts()"
   ]
  },
  {
   "cell_type": "code",
   "execution_count": 23,
   "metadata": {},
   "outputs": [
    {
     "output_type": "execute_result",
     "data": {
      "text/plain": [
       "0    Medium\n",
       "dtype: object"
      ]
     },
     "metadata": {},
     "execution_count": 23
    }
   ],
   "source": [
    "train['Outlet_Size'].mode()"
   ]
  },
  {
   "cell_type": "code",
   "execution_count": 25,
   "metadata": {},
   "outputs": [],
   "source": [
    "train['Outlet_Size']=train['Outlet_Size'].fillna(train['Outlet_Size'].mode()[0])"
   ]
  },
  {
   "cell_type": "code",
   "execution_count": 27,
   "metadata": {},
   "outputs": [],
   "source": [
    "train['Item_Weight'] = train['Item_Weight'].fillna(train['Item_Weight'].mean())"
   ]
  },
  {
   "cell_type": "code",
   "execution_count": 29,
   "metadata": {},
   "outputs": [
    {
     "output_type": "error",
     "ename": "ImportError",
     "evalue": "matplotlib is required for plotting when the default backend \"matplotlib\" is selected.",
     "traceback": [
      "\u001b[0;31m---------------------------------------------------------------------------\u001b[0m",
      "\u001b[0;31mImportError\u001b[0m                               Traceback (most recent call last)",
      "\u001b[0;32m<ipython-input-29-fb81ffb87ffa>\u001b[0m in \u001b[0;36m<module>\u001b[0;34m\u001b[0m\n\u001b[0;32m----> 1\u001b[0;31m \u001b[0mtrain\u001b[0m\u001b[0;34m[\u001b[0m\u001b[0;34m'Item_Visibility'\u001b[0m\u001b[0;34m]\u001b[0m\u001b[0;34m.\u001b[0m\u001b[0mhist\u001b[0m\u001b[0;34m(\u001b[0m\u001b[0mbins\u001b[0m \u001b[0;34m=\u001b[0m \u001b[0;36m20\u001b[0m\u001b[0;34m)\u001b[0m\u001b[0;34m\u001b[0m\u001b[0;34m\u001b[0m\u001b[0m\n\u001b[0m",
      "\u001b[0;32m~/.local/lib/python3.8/site-packages/pandas/plotting/_core.py\u001b[0m in \u001b[0;36mhist_series\u001b[0;34m(self, by, ax, grid, xlabelsize, xrot, ylabelsize, yrot, figsize, bins, backend, legend, **kwargs)\u001b[0m\n\u001b[1;32m     82\u001b[0m     \u001b[0mmatplotlib\u001b[0m\u001b[0;34m.\u001b[0m\u001b[0maxes\u001b[0m\u001b[0;34m.\u001b[0m\u001b[0mAxes\u001b[0m\u001b[0;34m.\u001b[0m\u001b[0mhist\u001b[0m \u001b[0;34m:\u001b[0m \u001b[0mPlot\u001b[0m \u001b[0ma\u001b[0m \u001b[0mhistogram\u001b[0m \u001b[0musing\u001b[0m \u001b[0mmatplotlib\u001b[0m\u001b[0;34m.\u001b[0m\u001b[0;34m\u001b[0m\u001b[0;34m\u001b[0m\u001b[0m\n\u001b[1;32m     83\u001b[0m     \"\"\"\n\u001b[0;32m---> 84\u001b[0;31m     \u001b[0mplot_backend\u001b[0m \u001b[0;34m=\u001b[0m \u001b[0m_get_plot_backend\u001b[0m\u001b[0;34m(\u001b[0m\u001b[0mbackend\u001b[0m\u001b[0;34m)\u001b[0m\u001b[0;34m\u001b[0m\u001b[0;34m\u001b[0m\u001b[0m\n\u001b[0m\u001b[1;32m     85\u001b[0m     return plot_backend.hist_series(\n\u001b[1;32m     86\u001b[0m         \u001b[0mself\u001b[0m\u001b[0;34m,\u001b[0m\u001b[0;34m\u001b[0m\u001b[0;34m\u001b[0m\u001b[0m\n",
      "\u001b[0;32m~/.local/lib/python3.8/site-packages/pandas/plotting/_core.py\u001b[0m in \u001b[0;36m_get_plot_backend\u001b[0;34m(backend)\u001b[0m\n\u001b[1;32m   1784\u001b[0m             \u001b[0;32mimport\u001b[0m \u001b[0mpandas\u001b[0m\u001b[0;34m.\u001b[0m\u001b[0mplotting\u001b[0m\u001b[0;34m.\u001b[0m\u001b[0m_matplotlib\u001b[0m \u001b[0;32mas\u001b[0m \u001b[0mmodule\u001b[0m\u001b[0;34m\u001b[0m\u001b[0;34m\u001b[0m\u001b[0m\n\u001b[1;32m   1785\u001b[0m         \u001b[0;32mexcept\u001b[0m \u001b[0mImportError\u001b[0m\u001b[0;34m:\u001b[0m\u001b[0;34m\u001b[0m\u001b[0;34m\u001b[0m\u001b[0m\n\u001b[0;32m-> 1786\u001b[0;31m             raise ImportError(\n\u001b[0m\u001b[1;32m   1787\u001b[0m                 \u001b[0;34m\"matplotlib is required for plotting when the \"\u001b[0m\u001b[0;34m\u001b[0m\u001b[0;34m\u001b[0m\u001b[0m\n\u001b[1;32m   1788\u001b[0m                 \u001b[0;34m'default backend \"matplotlib\" is selected.'\u001b[0m\u001b[0;34m\u001b[0m\u001b[0;34m\u001b[0m\u001b[0m\n",
      "\u001b[0;31mImportError\u001b[0m: matplotlib is required for plotting when the default backend \"matplotlib\" is selected."
     ]
    }
   ],
   "source": [
    "train['Item_Visibility'].hist(bins = 20)"
   ]
  },
  {
   "cell_type": "code",
   "execution_count": 71,
   "metadata": {},
   "outputs": [],
   "source": [
    "Q1 = train['Item_Visibility'].quantile(0.25)\n",
    "Q3 = train['Item_Visibility'].quantile(0.75)\n",
    "IQR = Q3 - Q1\n",
    "filt_train = train.query('(@Q1 - 1.5 * @IQR) <= Item_Visibility <= (@Q3 + 1.5 * @IQR)')"
   ]
  },
  {
   "cell_type": "code",
   "execution_count": 72,
   "metadata": {},
   "outputs": [
    {
     "output_type": "execute_result",
     "data": {
      "text/plain": [
       "((8379, 13), (8523, 13))"
      ]
     },
     "metadata": {},
     "execution_count": 72
    }
   ],
   "source": [
    "filt_train.shape, train.shape"
   ]
  },
  {
   "cell_type": "code",
   "execution_count": 73,
   "metadata": {},
   "outputs": [],
   "source": [
    "train = filt_train\n"
   ]
  },
  {
   "cell_type": "code",
   "execution_count": 74,
   "metadata": {},
   "outputs": [
    {
     "output_type": "execute_result",
     "data": {
      "text/plain": [
       "array([0.0160473 , 0.01927822, 0.01676007, ..., 0.03518627, 0.14522065,\n",
       "       0.04487828])"
      ]
     },
     "metadata": {},
     "execution_count": 74
    }
   ],
   "source": [
    "train['Item_Visibility'].unique()"
   ]
  },
  {
   "cell_type": "code",
   "execution_count": 75,
   "metadata": {},
   "outputs": [],
   "source": [
    "train['Item_Visibility_bins'] = pd.cut(train['Item_Visibility'], [0.000, 0.0650, 0.1300, 0.200], labels=['Low Viz', 'Viz', 'High Viz'])"
   ]
  },
  {
   "cell_type": "code",
   "execution_count": 76,
   "metadata": {},
   "outputs": [
    {
     "output_type": "execute_result",
     "data": {
      "text/plain": [
       "<bound method NDFrame.head of 0        Low Viz\n",
       "1        Low Viz\n",
       "2        Low Viz\n",
       "3            NaN\n",
       "4            NaN\n",
       "          ...   \n",
       "8518     Low Viz\n",
       "8519     Low Viz\n",
       "8520     Low Viz\n",
       "8521    High Viz\n",
       "8522     Low Viz\n",
       "Name: Item_Visibility_bins, Length: 8379, dtype: category\n",
       "Categories (3, object): ['Low Viz' < 'Viz' < 'High Viz']>"
      ]
     },
     "metadata": {},
     "execution_count": 76
    }
   ],
   "source": [
    "train['Item_Visibility_bins'].head"
   ]
  },
  {
   "cell_type": "code",
   "execution_count": 77,
   "metadata": {},
   "outputs": [
    {
     "output_type": "execute_result",
     "data": {
      "text/plain": [
       "526"
      ]
     },
     "metadata": {},
     "execution_count": 77
    }
   ],
   "source": [
    "train['Item_Visibility_bins'].isnull().sum()"
   ]
  },
  {
   "cell_type": "code",
   "execution_count": 78,
   "metadata": {},
   "outputs": [
    {
     "output_type": "execute_result",
     "data": {
      "text/plain": [
       "Low Viz     4403\n",
       "Viz         2557\n",
       "High Viz     893\n",
       "Name: Item_Visibility_bins, dtype: int64"
      ]
     },
     "metadata": {},
     "execution_count": 78
    }
   ],
   "source": [
    "train['Item_Visibility_bins'].value_counts()"
   ]
  },
  {
   "cell_type": "code",
   "execution_count": 79,
   "metadata": {},
   "outputs": [],
   "source": [
    "train['Item_Visibility_bins'] = train['Item_Visibility_bins'].replace(np.nan, 'Low_Viz', regex=True)"
   ]
  },
  {
   "cell_type": "code",
   "execution_count": 80,
   "metadata": {},
   "outputs": [],
   "source": [
    "train['Item_Fat_Content']=train['Item_Fat_Content'].replace(['low fat', 'LF', 'Low_Fat'], 'Low Fat')"
   ]
  },
  {
   "cell_type": "code",
   "execution_count": 81,
   "metadata": {},
   "outputs": [],
   "source": [
    "train['Item_Fat_Content']=train['Item_Fat_Content'].replace(['reg' , 'Regular'], 'Regular_Fat')"
   ]
  },
  {
   "cell_type": "code",
   "execution_count": 82,
   "metadata": {},
   "outputs": [],
   "source": [
    "le = preprocessing.LabelEncoder()"
   ]
  },
  {
   "cell_type": "code",
   "execution_count": 83,
   "metadata": {},
   "outputs": [
    {
     "output_type": "execute_result",
     "data": {
      "text/plain": [
       "array(['Low Fat', 'Regular_Fat'], dtype=object)"
      ]
     },
     "metadata": {},
     "execution_count": 83
    }
   ],
   "source": [
    "train['Item_Fat_Content'].unique()"
   ]
  },
  {
   "cell_type": "code",
   "execution_count": 84,
   "metadata": {},
   "outputs": [],
   "source": [
    "train['Item_Fat_Content']=le.fit_transform(train['Item_Fat_Content'])"
   ]
  },
  {
   "cell_type": "code",
   "execution_count": 111,
   "metadata": {},
   "outputs": [],
   "source": []
  },
  {
   "cell_type": "code",
   "execution_count": null,
   "metadata": {},
   "outputs": [],
   "source": []
  },
  {
   "cell_type": "code",
   "execution_count": 85,
   "metadata": {},
   "outputs": [],
   "source": [
    "train['Item_Visibility_bins']=le.fit_transform(train['Item_Visibility_bins'])"
   ]
  },
  {
   "cell_type": "code",
   "execution_count": 86,
   "metadata": {},
   "outputs": [],
   "source": [
    "train['Outlet_Size']=le.fit_transform(train['Outlet_Size'])"
   ]
  },
  {
   "cell_type": "code",
   "execution_count": 87,
   "metadata": {},
   "outputs": [],
   "source": [
    "train['Outlet_Location_Type']=le.fit_transform(train['Outlet_Location_Type'])"
   ]
  },
  {
   "cell_type": "code",
   "execution_count": 88,
   "metadata": {},
   "outputs": [],
   "source": [
    "dummy = pd.get_dummies(train['Outlet_Type'])"
   ]
  },
  {
   "cell_type": "code",
   "execution_count": 89,
   "metadata": {},
   "outputs": [
    {
     "output_type": "execute_result",
     "data": {
      "text/plain": [
       "   Grocery Store  Supermarket Type1  Supermarket Type2  Supermarket Type3\n",
       "0              0                  1                  0                  0\n",
       "1              0                  0                  1                  0\n",
       "2              0                  1                  0                  0\n",
       "3              1                  0                  0                  0\n",
       "4              0                  1                  0                  0"
      ],
      "text/html": "<div>\n<style scoped>\n    .dataframe tbody tr th:only-of-type {\n        vertical-align: middle;\n    }\n\n    .dataframe tbody tr th {\n        vertical-align: top;\n    }\n\n    .dataframe thead th {\n        text-align: right;\n    }\n</style>\n<table border=\"1\" class=\"dataframe\">\n  <thead>\n    <tr style=\"text-align: right;\">\n      <th></th>\n      <th>Grocery Store</th>\n      <th>Supermarket Type1</th>\n      <th>Supermarket Type2</th>\n      <th>Supermarket Type3</th>\n    </tr>\n  </thead>\n  <tbody>\n    <tr>\n      <th>0</th>\n      <td>0</td>\n      <td>1</td>\n      <td>0</td>\n      <td>0</td>\n    </tr>\n    <tr>\n      <th>1</th>\n      <td>0</td>\n      <td>0</td>\n      <td>1</td>\n      <td>0</td>\n    </tr>\n    <tr>\n      <th>2</th>\n      <td>0</td>\n      <td>1</td>\n      <td>0</td>\n      <td>0</td>\n    </tr>\n    <tr>\n      <th>3</th>\n      <td>1</td>\n      <td>0</td>\n      <td>0</td>\n      <td>0</td>\n    </tr>\n    <tr>\n      <th>4</th>\n      <td>0</td>\n      <td>1</td>\n      <td>0</td>\n      <td>0</td>\n    </tr>\n  </tbody>\n</table>\n</div>"
     },
     "metadata": {},
     "execution_count": 89
    }
   ],
   "source": [
    "dummy.head()"
   ]
  },
  {
   "cell_type": "code",
   "execution_count": 90,
   "metadata": {},
   "outputs": [],
   "source": [
    "train = pd.concat([train, dummy], axis=1)"
   ]
  },
  {
   "cell_type": "code",
   "execution_count": 91,
   "metadata": {},
   "outputs": [
    {
     "output_type": "execute_result",
     "data": {
      "text/plain": [
       "Index(['Item_Identifier', 'Item_Weight', 'Item_Fat_Content', 'Item_Visibility',\n",
       "       'Item_Type', 'Item_MRP', 'Outlet_Identifier',\n",
       "       'Outlet_Establishment_Year', 'Outlet_Size', 'Outlet_Location_Type',\n",
       "       'Outlet_Type', 'Item_Outlet_Sales', 'Outlet_Age',\n",
       "       'Item_Visibility_bins', 'Grocery Store', 'Supermarket Type1',\n",
       "       'Supermarket Type2', 'Supermarket Type3'],\n",
       "      dtype='object')"
      ]
     },
     "metadata": {},
     "execution_count": 91
    }
   ],
   "source": [
    "train.columns"
   ]
  },
  {
   "cell_type": "code",
   "execution_count": 92,
   "metadata": {},
   "outputs": [],
   "source": [
    "train = train.drop(['Item_Identifier', 'Item_Type', 'Outlet_Identifier', 'Outlet_Type', 'Outlet_Establishment_Year'], axis=1)"
   ]
  },
  {
   "cell_type": "code",
   "execution_count": 93,
   "metadata": {},
   "outputs": [
    {
     "output_type": "execute_result",
     "data": {
      "text/plain": [
       "Index(['Item_Weight', 'Item_Fat_Content', 'Item_Visibility', 'Item_MRP',\n",
       "       'Outlet_Size', 'Outlet_Location_Type', 'Item_Outlet_Sales',\n",
       "       'Outlet_Age', 'Item_Visibility_bins', 'Grocery Store',\n",
       "       'Supermarket Type1', 'Supermarket Type2', 'Supermarket Type3'],\n",
       "      dtype='object')"
      ]
     },
     "metadata": {},
     "execution_count": 93
    }
   ],
   "source": [
    "train.columns"
   ]
  },
  {
   "cell_type": "code",
   "execution_count": 94,
   "metadata": {},
   "outputs": [],
   "source": [
    "X = train.drop('Item_Outlet_Sales',axis=1)\n",
    "y = train.Item_Outlet_Sales"
   ]
  },
  {
   "cell_type": "code",
   "execution_count": 95,
   "metadata": {},
   "outputs": [],
   "source": [
    "test = pd.read_csv('/home/achintya/Desktop/CODES/ML Simplilearn/Demo Datasets/Lesson 4/bigmart_test.csv')"
   ]
  },
  {
   "cell_type": "code",
   "execution_count": 96,
   "metadata": {},
   "outputs": [],
   "source": [
    "test['Outlet_Size'] = test['Outlet_Size'].fillna('Medium')"
   ]
  },
  {
   "cell_type": "code",
   "execution_count": null,
   "metadata": {},
   "outputs": [],
   "source": []
  },
  {
   "cell_type": "code",
   "execution_count": 97,
   "metadata": {},
   "outputs": [
    {
     "output_type": "execute_result",
     "data": {
      "text/plain": [
       "0       0.007565\n",
       "1       0.038428\n",
       "2       0.099575\n",
       "3       0.015388\n",
       "4       0.118599\n",
       "          ...   \n",
       "5676    0.013496\n",
       "5677    0.142991\n",
       "5678    0.073529\n",
       "5679    0.000000\n",
       "5680    0.104720\n",
       "Name: Item_Visibility, Length: 5681, dtype: float64"
      ]
     },
     "metadata": {},
     "execution_count": 97
    }
   ],
   "source": [
    "test.Item_Visibility"
   ]
  },
  {
   "cell_type": "code",
   "execution_count": 98,
   "metadata": {},
   "outputs": [],
   "source": [
    "test['Item_Visibility_bins'] = pd.cut(test['Item_Visibility'], [0.000, 0.065, 0.13, 0.2], labels=['Low Viz', 'Viz', 'High Viz'])"
   ]
  },
  {
   "cell_type": "code",
   "execution_count": 103,
   "metadata": {},
   "outputs": [],
   "source": [
    "test['Item_Weight']=test['Item_Weight'].fillna(test['Item_Weight'].mean())"
   ]
  },
  {
   "cell_type": "code",
   "execution_count": 104,
   "metadata": {},
   "outputs": [],
   "source": [
    "test['Item_Visibility_bins']=test['Item_Visibility_bins'].fillna('Low Viz')"
   ]
  },
  {
   "cell_type": "code",
   "execution_count": 107,
   "metadata": {},
   "outputs": [
    {
     "output_type": "execute_result",
     "data": {
      "text/plain": [
       "0    Low Viz\n",
       "1    Low Viz\n",
       "2        Viz\n",
       "3    Low Viz\n",
       "4        Viz\n",
       "Name: Item_Visibility_bins, dtype: category\n",
       "Categories (3, object): ['Low Viz' < 'Viz' < 'High Viz']"
      ]
     },
     "metadata": {},
     "execution_count": 107
    }
   ],
   "source": [
    "test['Item_Visibility_bins'].head()"
   ]
  },
  {
   "cell_type": "code",
   "execution_count": 112,
   "metadata": {},
   "outputs": [],
   "source": [
    "test['Item_Fat_Content']=le.fit_transform(test['Item_Fat_Content'])\n",
    "test['Item_Visibility_bins']=le.fit_transform(test['Item_Visibility_bins'])\n",
    "test['Outlet_Size']=le.fit_transform(test['Outlet_Size'])\n",
    "test['Outlet_Location_Type']=le.fit_transform(test['Outlet_Location_Type'])\n",
    "test['Outlet_Age'] = le.fit_transform(test['Outlet_Establishment_Year'])"
   ]
  },
  {
   "cell_type": "code",
   "execution_count": 115,
   "metadata": {},
   "outputs": [],
   "source": [
    "dummy = pd.get_dummies(test['Outlet_Size'])\n",
    "test = pd.concat([test,dummy], axis=1)"
   ]
  },
  {
   "cell_type": "code",
   "execution_count": 116,
   "metadata": {},
   "outputs": [],
   "source": [
    "X_test = test.drop(['Item_Identifier', 'Item_Type', 'Outlet_Type', 'Outlet_Establishment_Year'], axis=1)"
   ]
  },
  {
   "cell_type": "code",
   "execution_count": 117,
   "metadata": {},
   "outputs": [
    {
     "output_type": "execute_result",
     "data": {
      "text/plain": [
       "(Index(['Item_Weight', 'Item_Fat_Content', 'Item_Visibility', 'Item_MRP',\n",
       "        'Outlet_Size', 'Outlet_Location_Type', 'Outlet_Age',\n",
       "        'Item_Visibility_bins', 'Grocery Store', 'Supermarket Type1',\n",
       "        'Supermarket Type2', 'Supermarket Type3'],\n",
       "       dtype='object'),\n",
       " Index([         'Item_Weight',     'Item_Fat_Content',      'Item_Visibility',\n",
       "                    'Item_MRP',    'Outlet_Identifier',          'Outlet_Size',\n",
       "        'Outlet_Location_Type', 'Item_Visibility_bins',           'Outlet_Age',\n",
       "                             0,                      1,                      2],\n",
       "       dtype='object'))"
      ]
     },
     "metadata": {},
     "execution_count": 117
    }
   ],
   "source": [
    "X.columns, X_test.columns"
   ]
  },
  {
   "cell_type": "code",
   "execution_count": 119,
   "metadata": {},
   "outputs": [],
   "source": [
    "from sklearn import model_selection\n",
    "xtrain, xtest, ytrain, ytest = model_selection.train_test_split(X, y, test_size=0.3, random_state=42)"
   ]
  },
  {
   "cell_type": "code",
   "execution_count": 121,
   "metadata": {},
   "outputs": [],
   "source": [
    "lin = LinearRegression()"
   ]
  },
  {
   "cell_type": "code",
   "execution_count": 122,
   "metadata": {},
   "outputs": [
    {
     "output_type": "stream",
     "name": "stdout",
     "text": [
      "[    3.35428815    27.12327436  -105.837685      15.96668691\n    16.78107616     8.03527797    -2.2746766     23.30477597\n -1754.40351049   219.65802578  -122.50086968  1657.24635438]\n-202.93929347663834\n"
     ]
    }
   ],
   "source": [
    "lin.fit(xtrain, ytrain)\n",
    "print(lin.coef_)\n",
    "print(lin.intercept_)"
   ]
  },
  {
   "cell_type": "code",
   "execution_count": 123,
   "metadata": {},
   "outputs": [],
   "source": [
    "predictions = lin.predict(xtest)\n"
   ]
  },
  {
   "cell_type": "code",
   "execution_count": 124,
   "metadata": {},
   "outputs": [],
   "source": [
    "from math import sqrt\n"
   ]
  },
  {
   "cell_type": "code",
   "execution_count": 127,
   "metadata": {},
   "outputs": [
    {
     "output_type": "stream",
     "name": "stdout",
     "text": [
      "1118.480514371628\n"
     ]
    }
   ],
   "source": [
    "print(sqrt(mean_squared_error(ytest, predictions)))"
   ]
  },
  {
   "cell_type": "code",
   "execution_count": 128,
   "metadata": {},
   "outputs": [],
   "source": [
    "from sklearn.linear_model import Ridge"
   ]
  },
  {
   "cell_type": "code",
   "execution_count": 134,
   "metadata": {},
   "outputs": [
    {
     "output_type": "execute_result",
     "data": {
      "text/plain": [
       "Ridge(alpha=0.001, normalize=True)"
      ]
     },
     "metadata": {},
     "execution_count": 134
    }
   ],
   "source": [
    "ridgereg = Ridge(alpha=0.001, normalize=True)\n",
    "ridgereg.fit(xtrain, ytrain)"
   ]
  },
  {
   "cell_type": "code",
   "execution_count": 136,
   "metadata": {},
   "outputs": [
    {
     "output_type": "stream",
     "name": "stdout",
     "text": [
      "1139.4537291881882\n1118.4228456028761\n"
     ]
    }
   ],
   "source": [
    "print(sqrt(mean_squared_error(ytrain, ridgereg.predict(xtrain))))\n",
    "print(sqrt(mean_squared_error(ytest, ridgereg.predict(xtest))))"
   ]
  },
  {
   "cell_type": "code",
   "execution_count": 139,
   "metadata": {},
   "outputs": [
    {
     "output_type": "stream",
     "name": "stdout",
     "text": [
      "R2 value/Coefficient of Determination: 0.5486085198985001 \n"
     ]
    }
   ],
   "source": [
    "print('R2 value/Coefficient of Determination: {} '.format(ridgereg.score(xtest, ytest)))"
   ]
  },
  {
   "cell_type": "code",
   "execution_count": 140,
   "metadata": {},
   "outputs": [
    {
     "output_type": "execute_result",
     "data": {
      "text/plain": [
       "Lasso(alpha=0.001, normalize=True)"
      ]
     },
     "metadata": {},
     "execution_count": 140
    }
   ],
   "source": [
    "from sklearn.linear_model import Lasso\n",
    "lassoreg = Lasso(alpha=0.001, normalize=True)\n",
    "\n",
    "lassoreg.fit(xtrain, ytrain)\n"
   ]
  },
  {
   "cell_type": "code",
   "execution_count": 141,
   "metadata": {},
   "outputs": [
    {
     "output_type": "stream",
     "name": "stdout",
     "text": [
      "1139.4530688651178\n1118.474132746509\n"
     ]
    }
   ],
   "source": [
    "print(sqrt(mean_squared_error(ytrain, lassoreg.predict(xtrain))))\n",
    "print(sqrt(mean_squared_error(ytest, lassoreg.predict(xtest))))"
   ]
  },
  {
   "cell_type": "code",
   "execution_count": 142,
   "metadata": {},
   "outputs": [
    {
     "output_type": "stream",
     "name": "stdout",
     "text": [
      "R2 value/Coefficient of Determination: 0.5485671203320125 \n"
     ]
    }
   ],
   "source": [
    "print('R2 value/Coefficient of Determination: {} '.format(lassoreg.score(xtest, ytest)))"
   ]
  },
  {
   "cell_type": "code",
   "execution_count": 143,
   "metadata": {},
   "outputs": [
    {
     "output_type": "stream",
     "name": "stdout",
     "text": [
      "1478.1842868516806\n1429.0845842020078\n"
     ]
    }
   ],
   "source": [
    "from sklearn.linear_model import ElasticNet\n",
    "elas = ElasticNet(alpha = 0.001, normalize=True)\n",
    "elas.fit(xtrain, ytrain)\n",
    "\n",
    "print(sqrt(mean_squared_error(ytrain, elas.predict(xtrain))))\n",
    "print(sqrt(mean_squared_error(ytest, elas.predict(xtest))))"
   ]
  },
  {
   "cell_type": "code",
   "execution_count": 144,
   "metadata": {},
   "outputs": [
    {
     "output_type": "stream",
     "name": "stdout",
     "text": [
      "R2 value/Coefficient of Determination: 0.2630175140598714 \n"
     ]
    }
   ],
   "source": [
    "print('R2 value/Coefficient of Determination: {} '.format(elas.score(xtest, ytest)))"
   ]
  },
  {
   "cell_type": "code",
   "execution_count": null,
   "metadata": {},
   "outputs": [],
   "source": []
  }
 ]
}