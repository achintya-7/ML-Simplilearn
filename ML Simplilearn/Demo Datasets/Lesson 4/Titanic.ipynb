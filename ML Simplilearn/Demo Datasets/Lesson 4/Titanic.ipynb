{
 "metadata": {
  "language_info": {
   "codemirror_mode": {
    "name": "ipython",
    "version": 3
   },
   "file_extension": ".py",
   "mimetype": "text/x-python",
   "name": "python",
   "nbconvert_exporter": "python",
   "pygments_lexer": "ipython3",
   "version": "3.8.5-final"
  },
  "orig_nbformat": 2,
  "kernelspec": {
   "name": "python38564bit45cca42702fd4d1693536a667e888c88",
   "display_name": "Python 3.8.5 64-bit",
   "language": "python"
  }
 },
 "nbformat": 4,
 "nbformat_minor": 2,
 "cells": [
  {
   "cell_type": "code",
   "execution_count": 3,
   "metadata": {},
   "outputs": [],
   "source": [
    "import pandas as pd \n",
    "import numpy as np \n",
    "import matplotlib\n",
    "import matplotlib.pyplot as plt \n",
    "from pandas.plotting import scatter_matrix\n",
    "%matplotlib inline\n",
    "\n",
    "import seaborn as sns\n",
    "sns.set(style=\"white\", color_codes=True)\n",
    "sns.set(font_scale=1.5)\n",
    "\n",
    "from sklearn.linear_model import LogisticRegression\n",
    "from sklearn.model_selection import train_test_split\n",
    "\n",
    "from sklearn.metrics import confusion_matrix\n",
    "from sklearn.metrics import classification_report\n",
    "from sklearn.metrics import accuracy_score\n",
    "from sklearn.metrics import precision_score\n",
    "from sklearn.metrics import recall_score\n",
    "from sklearn.metrics import f1_score\n",
    "from sklearn import metrics"
   ]
  },
  {
   "cell_type": "code",
   "execution_count": 5,
   "metadata": {},
   "outputs": [],
   "source": [
    "df_train = pd.read_csv(\"/home/achintya/Desktop/CODES/ML Simplilearn/Demo Datasets/Lesson 4/train.csv\")\n"
   ]
  },
  {
   "cell_type": "code",
   "execution_count": 15,
   "metadata": {},
   "outputs": [
    {
     "output_type": "execute_result",
     "data": {
      "text/plain": [
       "(891, 12)"
      ]
     },
     "metadata": {},
     "execution_count": 15
    }
   ],
   "source": [
    "df_train.shape"
   ]
  },
  {
   "cell_type": "code",
   "execution_count": 17,
   "metadata": {},
   "outputs": [
    {
     "output_type": "execute_result",
     "data": {
      "text/plain": [
       "   PassengerId  Survived  Pclass  \\\n",
       "0            1         0       3   \n",
       "1            2         1       1   \n",
       "2            3         1       3   \n",
       "3            4         1       1   \n",
       "4            5         0       3   \n",
       "\n",
       "                                                Name     Sex   Age  SibSp  \\\n",
       "0                            Braund, Mr. Owen Harris    male  22.0      1   \n",
       "1  Cumings, Mrs. John Bradley (Florence Briggs Th...  female  38.0      1   \n",
       "2                             Heikkinen, Miss. Laina  female  26.0      0   \n",
       "3       Futrelle, Mrs. Jacques Heath (Lily May Peel)  female  35.0      1   \n",
       "4                           Allen, Mr. William Henry    male  35.0      0   \n",
       "\n",
       "   Parch            Ticket     Fare Cabin Embarked  \n",
       "0      0         A/5 21171   7.2500   NaN        S  \n",
       "1      0          PC 17599  71.2833   C85        C  \n",
       "2      0  STON/O2. 3101282   7.9250   NaN        S  \n",
       "3      0            113803  53.1000  C123        S  \n",
       "4      0            373450   8.0500   NaN        S  "
      ],
      "text/html": "<div>\n<style scoped>\n    .dataframe tbody tr th:only-of-type {\n        vertical-align: middle;\n    }\n\n    .dataframe tbody tr th {\n        vertical-align: top;\n    }\n\n    .dataframe thead th {\n        text-align: right;\n    }\n</style>\n<table border=\"1\" class=\"dataframe\">\n  <thead>\n    <tr style=\"text-align: right;\">\n      <th></th>\n      <th>PassengerId</th>\n      <th>Survived</th>\n      <th>Pclass</th>\n      <th>Name</th>\n      <th>Sex</th>\n      <th>Age</th>\n      <th>SibSp</th>\n      <th>Parch</th>\n      <th>Ticket</th>\n      <th>Fare</th>\n      <th>Cabin</th>\n      <th>Embarked</th>\n    </tr>\n  </thead>\n  <tbody>\n    <tr>\n      <th>0</th>\n      <td>1</td>\n      <td>0</td>\n      <td>3</td>\n      <td>Braund, Mr. Owen Harris</td>\n      <td>male</td>\n      <td>22.0</td>\n      <td>1</td>\n      <td>0</td>\n      <td>A/5 21171</td>\n      <td>7.2500</td>\n      <td>NaN</td>\n      <td>S</td>\n    </tr>\n    <tr>\n      <th>1</th>\n      <td>2</td>\n      <td>1</td>\n      <td>1</td>\n      <td>Cumings, Mrs. John Bradley (Florence Briggs Th...</td>\n      <td>female</td>\n      <td>38.0</td>\n      <td>1</td>\n      <td>0</td>\n      <td>PC 17599</td>\n      <td>71.2833</td>\n      <td>C85</td>\n      <td>C</td>\n    </tr>\n    <tr>\n      <th>2</th>\n      <td>3</td>\n      <td>1</td>\n      <td>3</td>\n      <td>Heikkinen, Miss. Laina</td>\n      <td>female</td>\n      <td>26.0</td>\n      <td>0</td>\n      <td>0</td>\n      <td>STON/O2. 3101282</td>\n      <td>7.9250</td>\n      <td>NaN</td>\n      <td>S</td>\n    </tr>\n    <tr>\n      <th>3</th>\n      <td>4</td>\n      <td>1</td>\n      <td>1</td>\n      <td>Futrelle, Mrs. Jacques Heath (Lily May Peel)</td>\n      <td>female</td>\n      <td>35.0</td>\n      <td>1</td>\n      <td>0</td>\n      <td>113803</td>\n      <td>53.1000</td>\n      <td>C123</td>\n      <td>S</td>\n    </tr>\n    <tr>\n      <th>4</th>\n      <td>5</td>\n      <td>0</td>\n      <td>3</td>\n      <td>Allen, Mr. William Henry</td>\n      <td>male</td>\n      <td>35.0</td>\n      <td>0</td>\n      <td>0</td>\n      <td>373450</td>\n      <td>8.0500</td>\n      <td>NaN</td>\n      <td>S</td>\n    </tr>\n  </tbody>\n</table>\n</div>"
     },
     "metadata": {},
     "execution_count": 17
    }
   ],
   "source": [
    "df_train.head()"
   ]
  },
  {
   "cell_type": "code",
   "execution_count": 16,
   "metadata": {},
   "outputs": [
    {
     "output_type": "execute_result",
     "data": {
      "text/plain": [
       "0    549\n",
       "1    342\n",
       "Name: Survived, dtype: int64"
      ]
     },
     "metadata": {},
     "execution_count": 16
    }
   ],
   "source": [
    "df_train.Survived.value_counts()"
   ]
  },
  {
   "cell_type": "code",
   "execution_count": 18,
   "metadata": {},
   "outputs": [
    {
     "output_type": "execute_result",
     "data": {
      "text/plain": [
       "male      577\n",
       "female    314\n",
       "Name: Sex, dtype: int64"
      ]
     },
     "metadata": {},
     "execution_count": 18
    }
   ],
   "source": [
    "df_train.Sex.value_counts()"
   ]
  },
  {
   "cell_type": "code",
   "execution_count": 19,
   "metadata": {},
   "outputs": [
    {
     "output_type": "execute_result",
     "data": {
      "text/plain": [
       "S    644\n",
       "C    168\n",
       "Q     77\n",
       "Name: Embarked, dtype: int64"
      ]
     },
     "metadata": {},
     "execution_count": 19
    }
   ],
   "source": [
    "df_train.Embarked.value_counts()"
   ]
  },
  {
   "cell_type": "code",
   "execution_count": 22,
   "metadata": {},
   "outputs": [
    {
     "output_type": "execute_result",
     "data": {
      "text/plain": [
       "PassengerId      0\n",
       "Survived         0\n",
       "Pclass           0\n",
       "Name             0\n",
       "Sex              0\n",
       "Age            177\n",
       "SibSp            0\n",
       "Parch            0\n",
       "Ticket           0\n",
       "Fare             0\n",
       "Cabin          687\n",
       "Embarked         2\n",
       "dtype: int64"
      ]
     },
     "metadata": {},
     "execution_count": 22
    }
   ],
   "source": [
    "df_train.isnull().sum()"
   ]
  },
  {
   "source": [
    "age seems relevent but not the cabin as it has many null values\n",
    "passenger's name, ticket and passenger id seems irrelevent "
   ],
   "cell_type": "markdown",
   "metadata": {}
  },
  {
   "cell_type": "code",
   "execution_count": 25,
   "metadata": {},
   "outputs": [],
   "source": [
    "df_train = df_train.drop(['PassengerId', 'Name', 'Ticket', 'Cabin'], axis=1)"
   ]
  },
  {
   "cell_type": "code",
   "execution_count": 31,
   "metadata": {},
   "outputs": [],
   "source": [
    "def age_approx(cols):\n",
    "    Age = cols[0]\n",
    "    Pclass = cols[1]\n",
    "\n",
    "    if pd.isnull(Age):\n",
    "        if Pclass == 1:\n",
    "            return 37\n",
    "        elif Pclass == 2:\n",
    "            return 29\n",
    "        else:\n",
    "            return 24 \n",
    "    else:\n",
    "        return Age "
   ]
  },
  {
   "cell_type": "code",
   "execution_count": 32,
   "metadata": {},
   "outputs": [
    {
     "output_type": "execute_result",
     "data": {
      "text/plain": [
       "        Survived        Age     SibSp     Parch       Fare\n",
       "Pclass                                                    \n",
       "1       0.629630  38.233441  0.416667  0.356481  84.154687\n",
       "2       0.472826  29.877630  0.402174  0.380435  20.662183\n",
       "3       0.242363  25.140620  0.615071  0.393075  13.675550"
      ],
      "text/html": "<div>\n<style scoped>\n    .dataframe tbody tr th:only-of-type {\n        vertical-align: middle;\n    }\n\n    .dataframe tbody tr th {\n        vertical-align: top;\n    }\n\n    .dataframe thead th {\n        text-align: right;\n    }\n</style>\n<table border=\"1\" class=\"dataframe\">\n  <thead>\n    <tr style=\"text-align: right;\">\n      <th></th>\n      <th>Survived</th>\n      <th>Age</th>\n      <th>SibSp</th>\n      <th>Parch</th>\n      <th>Fare</th>\n    </tr>\n    <tr>\n      <th>Pclass</th>\n      <th></th>\n      <th></th>\n      <th></th>\n      <th></th>\n      <th></th>\n    </tr>\n  </thead>\n  <tbody>\n    <tr>\n      <th>1</th>\n      <td>0.629630</td>\n      <td>38.233441</td>\n      <td>0.416667</td>\n      <td>0.356481</td>\n      <td>84.154687</td>\n    </tr>\n    <tr>\n      <th>2</th>\n      <td>0.472826</td>\n      <td>29.877630</td>\n      <td>0.402174</td>\n      <td>0.380435</td>\n      <td>20.662183</td>\n    </tr>\n    <tr>\n      <th>3</th>\n      <td>0.242363</td>\n      <td>25.140620</td>\n      <td>0.615071</td>\n      <td>0.393075</td>\n      <td>13.675550</td>\n    </tr>\n  </tbody>\n</table>\n</div>"
     },
     "metadata": {},
     "execution_count": 32
    }
   ],
   "source": [
    "df_train.groupby(['Pclass']).mean()"
   ]
  },
  {
   "cell_type": "code",
   "execution_count": 34,
   "metadata": {},
   "outputs": [],
   "source": [
    "df_train['Age'] = df_train[['Age', 'Pclass']].apply(age_approx, axis=1)"
   ]
  },
  {
   "cell_type": "code",
   "execution_count": 35,
   "metadata": {},
   "outputs": [
    {
     "output_type": "execute_result",
     "data": {
      "text/plain": [
       "Survived    0\n",
       "Pclass      0\n",
       "Sex         0\n",
       "Age         0\n",
       "SibSp       0\n",
       "Parch       0\n",
       "Fare        0\n",
       "Embarked    2\n",
       "dtype: int64"
      ]
     },
     "metadata": {},
     "execution_count": 35
    }
   ],
   "source": [
    "df_train.isnull().sum()"
   ]
  },
  {
   "cell_type": "code",
   "execution_count": 36,
   "metadata": {},
   "outputs": [
    {
     "output_type": "execute_result",
     "data": {
      "text/plain": [
       "Survived    0\n",
       "Pclass      0\n",
       "Sex         0\n",
       "Age         0\n",
       "SibSp       0\n",
       "Parch       0\n",
       "Fare        0\n",
       "Embarked    0\n",
       "dtype: int64"
      ]
     },
     "metadata": {},
     "execution_count": 36
    }
   ],
   "source": [
    "df_train.dropna(inplace=True)\n",
    "df_train.isnull().sum()"
   ]
  },
  {
   "cell_type": "code",
   "execution_count": 37,
   "metadata": {},
   "outputs": [
    {
     "output_type": "execute_result",
     "data": {
      "text/plain": [
       "Survived      int64\n",
       "Pclass        int64\n",
       "Sex          object\n",
       "Age         float64\n",
       "SibSp         int64\n",
       "Parch         int64\n",
       "Fare        float64\n",
       "Embarked     object\n",
       "dtype: object"
      ]
     },
     "metadata": {},
     "execution_count": 37
    }
   ],
   "source": [
    "df_train.dtypes"
   ]
  },
  {
   "cell_type": "code",
   "execution_count": 38,
   "metadata": {},
   "outputs": [],
   "source": [
    "df_train_dummied = pd.get_dummies(df_train, columns=['Sex'])"
   ]
  },
  {
   "cell_type": "code",
   "execution_count": 39,
   "metadata": {},
   "outputs": [],
   "source": [
    "df_train_dummied = pd.get_dummies(df_train_dummied, columns=[\"Embarked\"])"
   ]
  },
  {
   "cell_type": "code",
   "execution_count": 40,
   "metadata": {},
   "outputs": [
    {
     "output_type": "execute_result",
     "data": {
      "text/plain": [
       "   Survived  Pclass   Age  SibSp  Parch     Fare  Sex_female  Sex_male  \\\n",
       "0         0       3  22.0      1      0   7.2500           0         1   \n",
       "1         1       1  38.0      1      0  71.2833           1         0   \n",
       "2         1       3  26.0      0      0   7.9250           1         0   \n",
       "3         1       1  35.0      1      0  53.1000           1         0   \n",
       "4         0       3  35.0      0      0   8.0500           0         1   \n",
       "\n",
       "   Embarked_C  Embarked_Q  Embarked_S  \n",
       "0           0           0           1  \n",
       "1           1           0           0  \n",
       "2           0           0           1  \n",
       "3           0           0           1  \n",
       "4           0           0           1  "
      ],
      "text/html": "<div>\n<style scoped>\n    .dataframe tbody tr th:only-of-type {\n        vertical-align: middle;\n    }\n\n    .dataframe tbody tr th {\n        vertical-align: top;\n    }\n\n    .dataframe thead th {\n        text-align: right;\n    }\n</style>\n<table border=\"1\" class=\"dataframe\">\n  <thead>\n    <tr style=\"text-align: right;\">\n      <th></th>\n      <th>Survived</th>\n      <th>Pclass</th>\n      <th>Age</th>\n      <th>SibSp</th>\n      <th>Parch</th>\n      <th>Fare</th>\n      <th>Sex_female</th>\n      <th>Sex_male</th>\n      <th>Embarked_C</th>\n      <th>Embarked_Q</th>\n      <th>Embarked_S</th>\n    </tr>\n  </thead>\n  <tbody>\n    <tr>\n      <th>0</th>\n      <td>0</td>\n      <td>3</td>\n      <td>22.0</td>\n      <td>1</td>\n      <td>0</td>\n      <td>7.2500</td>\n      <td>0</td>\n      <td>1</td>\n      <td>0</td>\n      <td>0</td>\n      <td>1</td>\n    </tr>\n    <tr>\n      <th>1</th>\n      <td>1</td>\n      <td>1</td>\n      <td>38.0</td>\n      <td>1</td>\n      <td>0</td>\n      <td>71.2833</td>\n      <td>1</td>\n      <td>0</td>\n      <td>1</td>\n      <td>0</td>\n      <td>0</td>\n    </tr>\n    <tr>\n      <th>2</th>\n      <td>1</td>\n      <td>3</td>\n      <td>26.0</td>\n      <td>0</td>\n      <td>0</td>\n      <td>7.9250</td>\n      <td>1</td>\n      <td>0</td>\n      <td>0</td>\n      <td>0</td>\n      <td>1</td>\n    </tr>\n    <tr>\n      <th>3</th>\n      <td>1</td>\n      <td>1</td>\n      <td>35.0</td>\n      <td>1</td>\n      <td>0</td>\n      <td>53.1000</td>\n      <td>1</td>\n      <td>0</td>\n      <td>0</td>\n      <td>0</td>\n      <td>1</td>\n    </tr>\n    <tr>\n      <th>4</th>\n      <td>0</td>\n      <td>3</td>\n      <td>35.0</td>\n      <td>0</td>\n      <td>0</td>\n      <td>8.0500</td>\n      <td>0</td>\n      <td>1</td>\n      <td>0</td>\n      <td>0</td>\n      <td>1</td>\n    </tr>\n  </tbody>\n</table>\n</div>"
     },
     "metadata": {},
     "execution_count": 40
    }
   ],
   "source": [
    "df_train_dummied.head()"
   ]
  },
  {
   "cell_type": "code",
   "execution_count": 41,
   "metadata": {},
   "outputs": [
    {
     "output_type": "execute_result",
     "data": {
      "text/plain": [
       "   Survived  Pclass     Sex   Age  SibSp  Parch     Fare Embarked\n",
       "0         0       3    male  22.0      1      0   7.2500        S\n",
       "1         1       1  female  38.0      1      0  71.2833        C\n",
       "2         1       3  female  26.0      0      0   7.9250        S\n",
       "3         1       1  female  35.0      1      0  53.1000        S\n",
       "4         0       3    male  35.0      0      0   8.0500        S"
      ],
      "text/html": "<div>\n<style scoped>\n    .dataframe tbody tr th:only-of-type {\n        vertical-align: middle;\n    }\n\n    .dataframe tbody tr th {\n        vertical-align: top;\n    }\n\n    .dataframe thead th {\n        text-align: right;\n    }\n</style>\n<table border=\"1\" class=\"dataframe\">\n  <thead>\n    <tr style=\"text-align: right;\">\n      <th></th>\n      <th>Survived</th>\n      <th>Pclass</th>\n      <th>Sex</th>\n      <th>Age</th>\n      <th>SibSp</th>\n      <th>Parch</th>\n      <th>Fare</th>\n      <th>Embarked</th>\n    </tr>\n  </thead>\n  <tbody>\n    <tr>\n      <th>0</th>\n      <td>0</td>\n      <td>3</td>\n      <td>male</td>\n      <td>22.0</td>\n      <td>1</td>\n      <td>0</td>\n      <td>7.2500</td>\n      <td>S</td>\n    </tr>\n    <tr>\n      <th>1</th>\n      <td>1</td>\n      <td>1</td>\n      <td>female</td>\n      <td>38.0</td>\n      <td>1</td>\n      <td>0</td>\n      <td>71.2833</td>\n      <td>C</td>\n    </tr>\n    <tr>\n      <th>2</th>\n      <td>1</td>\n      <td>3</td>\n      <td>female</td>\n      <td>26.0</td>\n      <td>0</td>\n      <td>0</td>\n      <td>7.9250</td>\n      <td>S</td>\n    </tr>\n    <tr>\n      <th>3</th>\n      <td>1</td>\n      <td>1</td>\n      <td>female</td>\n      <td>35.0</td>\n      <td>1</td>\n      <td>0</td>\n      <td>53.1000</td>\n      <td>S</td>\n    </tr>\n    <tr>\n      <th>4</th>\n      <td>0</td>\n      <td>3</td>\n      <td>male</td>\n      <td>35.0</td>\n      <td>0</td>\n      <td>0</td>\n      <td>8.0500</td>\n      <td>S</td>\n    </tr>\n  </tbody>\n</table>\n</div>"
     },
     "metadata": {},
     "execution_count": 41
    }
   ],
   "source": [
    "df_train.head()"
   ]
  },
  {
   "cell_type": "code",
   "execution_count": 43,
   "metadata": {},
   "outputs": [
    {
     "output_type": "execute_result",
     "data": {
      "text/plain": [
       "<AxesSubplot:>"
      ]
     },
     "metadata": {},
     "execution_count": 43
    },
    {
     "output_type": "display_data",
     "data": {
      "text/plain": "<Figure size 432x288 with 2 Axes>",
      "image/svg+xml": "<?xml version=\"1.0\" encoding=\"utf-8\" standalone=\"no\"?>\n<!DOCTYPE svg PUBLIC \"-//W3C//DTD SVG 1.1//EN\"\n  \"http://www.w3.org/Graphics/SVG/1.1/DTD/svg11.dtd\">\n<!-- Created with matplotlib (https://matplotlib.org/) -->\n<svg height=\"344.45082pt\" version=\"1.1\" viewBox=\"0 0 458.629656 344.45082\" width=\"458.629656pt\" xmlns=\"http://www.w3.org/2000/svg\" xmlns:xlink=\"http://www.w3.org/1999/xlink\">\n <metadata>\n  <rdf:RDF xmlns:cc=\"http://creativecommons.org/ns#\" xmlns:dc=\"http://purl.org/dc/elements/1.1/\" xmlns:rdf=\"http://www.w3.org/1999/02/22-rdf-syntax-ns#\">\n   <cc:Work>\n    <dc:type rdf:resource=\"http://purl.org/dc/dcmitype/StillImage\"/>\n    <dc:date>2021-02-25T21:15:20.943613</dc:date>\n    <dc:format>image/svg+xml</dc:format>\n    <dc:creator>\n     <cc:Agent>\n      <dc:title>Matplotlib v3.3.4, https://matplotlib.org/</dc:title>\n     </cc:Agent>\n    </dc:creator>\n   </cc:Work>\n  </rdf:RDF>\n </metadata>\n <defs>\n  <style type=\"text/css\">*{stroke-linecap:butt;stroke-linejoin:round;}</style>\n </defs>\n <g id=\"figure_1\">\n  <g id=\"patch_1\">\n   <path d=\"M 0 344.45082 \nL 458.629656 344.45082 \nL 458.629656 0 \nL 0 0 \nz\n\" style=\"fill:#ffffff;\"/>\n  </g>\n  <g id=\"axes_1\">\n   <g id=\"patch_2\">\n    <path d=\"M 113.905625 230.545195 \nL 381.745625 230.545195 \nL 381.745625 13.105195 \nL 113.905625 13.105195 \nz\n\" style=\"fill:#eaeaf2;\"/>\n   </g>\n   <g id=\"matplotlib.axis_1\">\n    <g id=\"xtick_1\">\n     <g id=\"text_1\">\n      <!-- Survived -->\n      <g style=\"fill:#262626;\" transform=\"translate(130.345678 304.23793)rotate(-90)scale(0.165 -0.165)\">\n       <defs>\n        <path d=\"M 4.5 23 \nL 13.421875 23.78125 \nQ 14.0625 18.40625 16.375 14.96875 \nQ 18.703125 11.53125 23.578125 9.40625 \nQ 28.46875 7.28125 34.578125 7.28125 \nQ 39.984375 7.28125 44.140625 8.890625 \nQ 48.296875 10.5 50.3125 13.296875 \nQ 52.34375 16.109375 52.34375 19.4375 \nQ 52.34375 22.796875 50.390625 25.3125 \nQ 48.4375 27.828125 43.953125 29.546875 \nQ 41.0625 30.671875 31.203125 33.03125 \nQ 21.34375 35.40625 17.390625 37.5 \nQ 12.25 40.1875 9.734375 44.15625 \nQ 7.234375 48.140625 7.234375 53.078125 \nQ 7.234375 58.5 10.296875 63.203125 \nQ 13.375 67.921875 19.28125 70.359375 \nQ 25.203125 72.796875 32.421875 72.796875 \nQ 40.375 72.796875 46.453125 70.234375 \nQ 52.546875 67.671875 55.8125 62.6875 \nQ 59.078125 57.71875 59.328125 51.421875 \nL 50.25 50.734375 \nQ 49.515625 57.515625 45.28125 60.984375 \nQ 41.0625 64.453125 32.8125 64.453125 \nQ 24.21875 64.453125 20.28125 61.296875 \nQ 16.359375 58.15625 16.359375 53.71875 \nQ 16.359375 49.859375 19.140625 47.359375 \nQ 21.875 44.875 33.421875 42.265625 \nQ 44.96875 39.65625 49.265625 37.703125 \nQ 55.515625 34.8125 58.484375 30.390625 \nQ 61.46875 25.984375 61.46875 20.21875 \nQ 61.46875 14.5 58.203125 9.4375 \nQ 54.9375 4.390625 48.796875 1.578125 \nQ 42.671875 -1.21875 35.015625 -1.21875 \nQ 25.296875 -1.21875 18.71875 1.609375 \nQ 12.15625 4.4375 8.421875 10.125 \nQ 4.6875 15.828125 4.5 23 \nz\n\" id=\"ArialMT-83\"/>\n        <path d=\"M 40.578125 0 \nL 40.578125 7.625 \nQ 34.515625 -1.171875 24.125 -1.171875 \nQ 19.53125 -1.171875 15.546875 0.578125 \nQ 11.578125 2.34375 9.640625 5 \nQ 7.71875 7.671875 6.9375 11.53125 \nQ 6.390625 14.109375 6.390625 19.734375 \nL 6.390625 51.859375 \nL 15.1875 51.859375 \nL 15.1875 23.09375 \nQ 15.1875 16.21875 15.71875 13.8125 \nQ 16.546875 10.359375 19.234375 8.375 \nQ 21.921875 6.390625 25.875 6.390625 \nQ 29.828125 6.390625 33.296875 8.421875 \nQ 36.765625 10.453125 38.203125 13.9375 \nQ 39.65625 17.4375 39.65625 24.078125 \nL 39.65625 51.859375 \nL 48.4375 51.859375 \nL 48.4375 0 \nz\n\" id=\"ArialMT-117\"/>\n        <path d=\"M 6.5 0 \nL 6.5 51.859375 \nL 14.40625 51.859375 \nL 14.40625 44 \nQ 17.4375 49.515625 20 51.265625 \nQ 22.5625 53.03125 25.640625 53.03125 \nQ 30.078125 53.03125 34.671875 50.203125 \nL 31.640625 42.046875 \nQ 28.421875 43.953125 25.203125 43.953125 \nQ 22.3125 43.953125 20.015625 42.21875 \nQ 17.71875 40.484375 16.75 37.40625 \nQ 15.28125 32.71875 15.28125 27.15625 \nL 15.28125 0 \nz\n\" id=\"ArialMT-114\"/>\n        <path d=\"M 21 0 \nL 1.265625 51.859375 \nL 10.546875 51.859375 \nL 21.6875 20.796875 \nQ 23.484375 15.765625 25 10.359375 \nQ 26.171875 14.453125 28.265625 20.21875 \nL 39.796875 51.859375 \nL 48.828125 51.859375 \nL 29.203125 0 \nz\n\" id=\"ArialMT-118\"/>\n        <path d=\"M 6.640625 61.46875 \nL 6.640625 71.578125 \nL 15.4375 71.578125 \nL 15.4375 61.46875 \nz\nM 6.640625 0 \nL 6.640625 51.859375 \nL 15.4375 51.859375 \nL 15.4375 0 \nz\n\" id=\"ArialMT-105\"/>\n        <path d=\"M 42.09375 16.703125 \nL 51.171875 15.578125 \nQ 49.03125 7.625 43.21875 3.21875 \nQ 37.40625 -1.171875 28.375 -1.171875 \nQ 17 -1.171875 10.328125 5.828125 \nQ 3.65625 12.84375 3.65625 25.484375 \nQ 3.65625 38.578125 10.390625 45.796875 \nQ 17.140625 53.03125 27.875 53.03125 \nQ 38.28125 53.03125 44.875 45.953125 \nQ 51.46875 38.875 51.46875 26.03125 \nQ 51.46875 25.25 51.421875 23.6875 \nL 12.75 23.6875 \nQ 13.234375 15.140625 17.578125 10.59375 \nQ 21.921875 6.0625 28.421875 6.0625 \nQ 33.25 6.0625 36.671875 8.59375 \nQ 40.09375 11.140625 42.09375 16.703125 \nz\nM 13.234375 30.90625 \nL 42.1875 30.90625 \nQ 41.609375 37.453125 38.875 40.71875 \nQ 34.671875 45.796875 27.984375 45.796875 \nQ 21.921875 45.796875 17.796875 41.75 \nQ 13.671875 37.703125 13.234375 30.90625 \nz\n\" id=\"ArialMT-101\"/>\n        <path d=\"M 40.234375 0 \nL 40.234375 6.546875 \nQ 35.296875 -1.171875 25.734375 -1.171875 \nQ 19.53125 -1.171875 14.328125 2.25 \nQ 9.125 5.671875 6.265625 11.796875 \nQ 3.421875 17.921875 3.421875 25.875 \nQ 3.421875 33.640625 6 39.96875 \nQ 8.59375 46.296875 13.765625 49.65625 \nQ 18.953125 53.03125 25.34375 53.03125 \nQ 30.03125 53.03125 33.6875 51.046875 \nQ 37.359375 49.078125 39.65625 45.90625 \nL 39.65625 71.578125 \nL 48.390625 71.578125 \nL 48.390625 0 \nz\nM 12.453125 25.875 \nQ 12.453125 15.921875 16.640625 10.984375 \nQ 20.84375 6.0625 26.5625 6.0625 \nQ 32.328125 6.0625 36.34375 10.765625 \nQ 40.375 15.484375 40.375 25.140625 \nQ 40.375 35.796875 36.265625 40.765625 \nQ 32.171875 45.75 26.171875 45.75 \nQ 20.3125 45.75 16.375 40.96875 \nQ 12.453125 36.1875 12.453125 25.875 \nz\n\" id=\"ArialMT-100\"/>\n       </defs>\n       <use xlink:href=\"#ArialMT-83\"/>\n       <use x=\"66.699219\" xlink:href=\"#ArialMT-117\"/>\n       <use x=\"122.314453\" xlink:href=\"#ArialMT-114\"/>\n       <use x=\"155.615234\" xlink:href=\"#ArialMT-118\"/>\n       <use x=\"205.615234\" xlink:href=\"#ArialMT-105\"/>\n       <use x=\"227.832031\" xlink:href=\"#ArialMT-118\"/>\n       <use x=\"277.832031\" xlink:href=\"#ArialMT-101\"/>\n       <use x=\"333.447266\" xlink:href=\"#ArialMT-100\"/>\n      </g>\n     </g>\n    </g>\n    <g id=\"xtick_2\">\n     <g id=\"text_2\">\n      <!-- Pclass -->\n      <g style=\"fill:#262626;\" transform=\"translate(154.694769 288.642852)rotate(-90)scale(0.165 -0.165)\">\n       <defs>\n        <path d=\"M 7.71875 0 \nL 7.71875 71.578125 \nL 34.71875 71.578125 \nQ 41.84375 71.578125 45.609375 70.90625 \nQ 50.875 70.015625 54.4375 67.546875 \nQ 58.015625 65.09375 60.1875 60.640625 \nQ 62.359375 56.203125 62.359375 50.875 \nQ 62.359375 41.75 56.546875 35.421875 \nQ 50.734375 29.109375 35.546875 29.109375 \nL 17.1875 29.109375 \nL 17.1875 0 \nz\nM 17.1875 37.546875 \nL 35.6875 37.546875 \nQ 44.875 37.546875 48.734375 40.96875 \nQ 52.59375 44.390625 52.59375 50.59375 \nQ 52.59375 55.078125 50.3125 58.265625 \nQ 48.046875 61.46875 44.34375 62.5 \nQ 41.9375 63.140625 35.5 63.140625 \nL 17.1875 63.140625 \nz\n\" id=\"ArialMT-80\"/>\n        <path d=\"M 40.4375 19 \nL 49.078125 17.875 \nQ 47.65625 8.9375 41.8125 3.875 \nQ 35.984375 -1.171875 27.484375 -1.171875 \nQ 16.84375 -1.171875 10.375 5.78125 \nQ 3.90625 12.75 3.90625 25.734375 \nQ 3.90625 34.125 6.6875 40.421875 \nQ 9.46875 46.734375 15.15625 49.875 \nQ 20.84375 53.03125 27.546875 53.03125 \nQ 35.984375 53.03125 41.359375 48.75 \nQ 46.734375 44.484375 48.25 36.625 \nL 39.703125 35.296875 \nQ 38.484375 40.53125 35.375 43.15625 \nQ 32.28125 45.796875 27.875 45.796875 \nQ 21.234375 45.796875 17.078125 41.03125 \nQ 12.9375 36.28125 12.9375 25.984375 \nQ 12.9375 15.53125 16.9375 10.796875 \nQ 20.953125 6.0625 27.390625 6.0625 \nQ 32.5625 6.0625 36.03125 9.234375 \nQ 39.5 12.40625 40.4375 19 \nz\n\" id=\"ArialMT-99\"/>\n        <path d=\"M 6.390625 0 \nL 6.390625 71.578125 \nL 15.1875 71.578125 \nL 15.1875 0 \nz\n\" id=\"ArialMT-108\"/>\n        <path d=\"M 40.4375 6.390625 \nQ 35.546875 2.25 31.03125 0.53125 \nQ 26.515625 -1.171875 21.34375 -1.171875 \nQ 12.796875 -1.171875 8.203125 3 \nQ 3.609375 7.171875 3.609375 13.671875 \nQ 3.609375 17.484375 5.34375 20.625 \nQ 7.078125 23.78125 9.890625 25.6875 \nQ 12.703125 27.59375 16.21875 28.5625 \nQ 18.796875 29.25 24.03125 29.890625 \nQ 34.671875 31.15625 39.703125 32.90625 \nQ 39.75 34.71875 39.75 35.203125 \nQ 39.75 40.578125 37.25 42.78125 \nQ 33.890625 45.75 27.25 45.75 \nQ 21.046875 45.75 18.09375 43.578125 \nQ 15.140625 41.40625 13.71875 35.890625 \nL 5.125 37.0625 \nQ 6.296875 42.578125 8.984375 45.96875 \nQ 11.671875 49.359375 16.75 51.1875 \nQ 21.828125 53.03125 28.515625 53.03125 \nQ 35.15625 53.03125 39.296875 51.46875 \nQ 43.453125 49.90625 45.40625 47.53125 \nQ 47.359375 45.171875 48.140625 41.546875 \nQ 48.578125 39.3125 48.578125 33.453125 \nL 48.578125 21.734375 \nQ 48.578125 9.46875 49.140625 6.21875 \nQ 49.703125 2.984375 51.375 0 \nL 42.1875 0 \nQ 40.828125 2.734375 40.4375 6.390625 \nz\nM 39.703125 26.03125 \nQ 34.90625 24.078125 25.34375 22.703125 \nQ 19.921875 21.921875 17.671875 20.9375 \nQ 15.4375 19.96875 14.203125 18.09375 \nQ 12.984375 16.21875 12.984375 13.921875 \nQ 12.984375 10.40625 15.640625 8.0625 \nQ 18.3125 5.71875 23.4375 5.71875 \nQ 28.515625 5.71875 32.46875 7.9375 \nQ 36.421875 10.15625 38.28125 14.015625 \nQ 39.703125 17 39.703125 22.796875 \nz\n\" id=\"ArialMT-97\"/>\n        <path d=\"M 3.078125 15.484375 \nL 11.765625 16.84375 \nQ 12.5 11.625 15.84375 8.84375 \nQ 19.1875 6.0625 25.203125 6.0625 \nQ 31.25 6.0625 34.171875 8.515625 \nQ 37.109375 10.984375 37.109375 14.3125 \nQ 37.109375 17.28125 34.515625 19 \nQ 32.71875 20.171875 25.53125 21.96875 \nQ 15.875 24.421875 12.140625 26.203125 \nQ 8.40625 27.984375 6.46875 31.125 \nQ 4.546875 34.28125 4.546875 38.09375 \nQ 4.546875 41.546875 6.125 44.5 \nQ 7.71875 47.46875 10.453125 49.421875 \nQ 12.5 50.921875 16.03125 51.96875 \nQ 19.578125 53.03125 23.640625 53.03125 \nQ 29.734375 53.03125 34.34375 51.265625 \nQ 38.96875 49.515625 41.15625 46.5 \nQ 43.359375 43.5 44.1875 38.484375 \nL 35.59375 37.3125 \nQ 35.015625 41.3125 32.203125 43.546875 \nQ 29.390625 45.796875 24.265625 45.796875 \nQ 18.21875 45.796875 15.625 43.796875 \nQ 13.03125 41.796875 13.03125 39.109375 \nQ 13.03125 37.40625 14.109375 36.03125 \nQ 15.1875 34.625 17.484375 33.6875 \nQ 18.796875 33.203125 25.25 31.453125 \nQ 34.578125 28.953125 38.25 27.359375 \nQ 41.9375 25.78125 44.03125 22.75 \nQ 46.140625 19.734375 46.140625 15.234375 \nQ 46.140625 10.84375 43.578125 6.953125 \nQ 41.015625 3.078125 36.171875 0.953125 \nQ 31.34375 -1.171875 25.25 -1.171875 \nQ 15.140625 -1.171875 9.84375 3.03125 \nQ 4.546875 7.234375 3.078125 15.484375 \nz\n\" id=\"ArialMT-115\"/>\n       </defs>\n       <use xlink:href=\"#ArialMT-80\"/>\n       <use x=\"66.699219\" xlink:href=\"#ArialMT-99\"/>\n       <use x=\"116.699219\" xlink:href=\"#ArialMT-108\"/>\n       <use x=\"138.916016\" xlink:href=\"#ArialMT-97\"/>\n       <use x=\"194.53125\" xlink:href=\"#ArialMT-115\"/>\n       <use x=\"244.53125\" xlink:href=\"#ArialMT-115\"/>\n      </g>\n     </g>\n    </g>\n    <g id=\"xtick_3\">\n     <g id=\"text_3\">\n      <!-- Age -->\n      <g style=\"fill:#262626;\" transform=\"translate(178.94718 269.402305)rotate(-90)scale(0.165 -0.165)\">\n       <defs>\n        <path d=\"M -0.140625 0 \nL 27.34375 71.578125 \nL 37.546875 71.578125 \nL 66.84375 0 \nL 56.0625 0 \nL 47.703125 21.6875 \nL 17.78125 21.6875 \nL 9.90625 0 \nz\nM 20.515625 29.390625 \nL 44.78125 29.390625 \nL 37.3125 49.21875 \nQ 33.890625 58.25 32.234375 64.0625 \nQ 30.859375 57.171875 28.375 50.390625 \nz\n\" id=\"ArialMT-65\"/>\n        <path d=\"M 4.984375 -4.296875 \nL 13.53125 -5.5625 \nQ 14.0625 -9.515625 16.5 -11.328125 \nQ 19.78125 -13.765625 25.4375 -13.765625 \nQ 31.546875 -13.765625 34.859375 -11.328125 \nQ 38.1875 -8.890625 39.359375 -4.5 \nQ 40.046875 -1.8125 39.984375 6.78125 \nQ 34.234375 0 25.640625 0 \nQ 14.9375 0 9.078125 7.71875 \nQ 3.21875 15.4375 3.21875 26.21875 \nQ 3.21875 33.640625 5.90625 39.90625 \nQ 8.59375 46.1875 13.6875 49.609375 \nQ 18.796875 53.03125 25.6875 53.03125 \nQ 34.859375 53.03125 40.828125 45.609375 \nL 40.828125 51.859375 \nL 48.921875 51.859375 \nL 48.921875 7.03125 \nQ 48.921875 -5.078125 46.453125 -10.125 \nQ 44 -15.1875 38.640625 -18.109375 \nQ 33.296875 -21.046875 25.484375 -21.046875 \nQ 16.21875 -21.046875 10.5 -16.875 \nQ 4.78125 -12.703125 4.984375 -4.296875 \nz\nM 12.25 26.859375 \nQ 12.25 16.65625 16.296875 11.96875 \nQ 20.359375 7.28125 26.46875 7.28125 \nQ 32.515625 7.28125 36.609375 11.9375 \nQ 40.71875 16.609375 40.71875 26.5625 \nQ 40.71875 36.078125 36.5 40.90625 \nQ 32.28125 45.75 26.3125 45.75 \nQ 20.453125 45.75 16.34375 40.984375 \nQ 12.25 36.234375 12.25 26.859375 \nz\n\" id=\"ArialMT-103\"/>\n       </defs>\n       <use xlink:href=\"#ArialMT-65\"/>\n       <use x=\"66.699219\" xlink:href=\"#ArialMT-103\"/>\n       <use x=\"122.314453\" xlink:href=\"#ArialMT-101\"/>\n      </g>\n     </g>\n    </g>\n    <g id=\"xtick_4\">\n     <g id=\"text_4\">\n      <!-- SibSp -->\n      <g style=\"fill:#262626;\" transform=\"translate(203.493498 284.074414)rotate(-90)scale(0.165 -0.165)\">\n       <defs>\n        <path d=\"M 14.703125 0 \nL 6.546875 0 \nL 6.546875 71.578125 \nL 15.328125 71.578125 \nL 15.328125 46.046875 \nQ 20.90625 53.03125 29.546875 53.03125 \nQ 34.328125 53.03125 38.59375 51.09375 \nQ 42.875 49.171875 45.625 45.671875 \nQ 48.390625 42.1875 49.953125 37.25 \nQ 51.515625 32.328125 51.515625 26.703125 \nQ 51.515625 13.375 44.921875 6.09375 \nQ 38.328125 -1.171875 29.109375 -1.171875 \nQ 19.921875 -1.171875 14.703125 6.5 \nz\nM 14.59375 26.3125 \nQ 14.59375 17 17.140625 12.84375 \nQ 21.296875 6.0625 28.375 6.0625 \nQ 34.125 6.0625 38.328125 11.0625 \nQ 42.53125 16.0625 42.53125 25.984375 \nQ 42.53125 36.140625 38.5 40.96875 \nQ 34.46875 45.796875 28.765625 45.796875 \nQ 23 45.796875 18.796875 40.796875 \nQ 14.59375 35.796875 14.59375 26.3125 \nz\n\" id=\"ArialMT-98\"/>\n        <path d=\"M 6.59375 -19.875 \nL 6.59375 51.859375 \nL 14.59375 51.859375 \nL 14.59375 45.125 \nQ 17.4375 49.078125 21 51.046875 \nQ 24.5625 53.03125 29.640625 53.03125 \nQ 36.28125 53.03125 41.359375 49.609375 \nQ 46.4375 46.1875 49.015625 39.953125 \nQ 51.609375 33.734375 51.609375 26.3125 \nQ 51.609375 18.359375 48.75 11.984375 \nQ 45.90625 5.609375 40.453125 2.21875 \nQ 35.015625 -1.171875 29 -1.171875 \nQ 24.609375 -1.171875 21.109375 0.6875 \nQ 17.625 2.546875 15.375 5.375 \nL 15.375 -19.875 \nz\nM 14.546875 25.640625 \nQ 14.546875 15.625 18.59375 10.84375 \nQ 22.65625 6.0625 28.421875 6.0625 \nQ 34.28125 6.0625 38.453125 11.015625 \nQ 42.625 15.96875 42.625 26.375 \nQ 42.625 36.28125 38.546875 41.203125 \nQ 34.46875 46.140625 28.8125 46.140625 \nQ 23.1875 46.140625 18.859375 40.890625 \nQ 14.546875 35.640625 14.546875 25.640625 \nz\n\" id=\"ArialMT-112\"/>\n       </defs>\n       <use xlink:href=\"#ArialMT-83\"/>\n       <use x=\"66.699219\" xlink:href=\"#ArialMT-105\"/>\n       <use x=\"88.916016\" xlink:href=\"#ArialMT-98\"/>\n       <use x=\"144.53125\" xlink:href=\"#ArialMT-83\"/>\n       <use x=\"211.230469\" xlink:href=\"#ArialMT-112\"/>\n      </g>\n     </g>\n    </g>\n    <g id=\"xtick_5\">\n     <g id=\"text_5\">\n      <!-- Parch -->\n      <g style=\"fill:#262626;\" transform=\"translate(227.742042 283.146289)rotate(-90)scale(0.165 -0.165)\">\n       <defs>\n        <path d=\"M 6.59375 0 \nL 6.59375 71.578125 \nL 15.375 71.578125 \nL 15.375 45.90625 \nQ 21.53125 53.03125 30.90625 53.03125 \nQ 36.671875 53.03125 40.921875 50.75 \nQ 45.171875 48.484375 47 44.484375 \nQ 48.828125 40.484375 48.828125 32.859375 \nL 48.828125 0 \nL 40.046875 0 \nL 40.046875 32.859375 \nQ 40.046875 39.453125 37.1875 42.453125 \nQ 34.328125 45.453125 29.109375 45.453125 \nQ 25.203125 45.453125 21.75 43.421875 \nQ 18.3125 41.40625 16.84375 37.9375 \nQ 15.375 34.46875 15.375 28.375 \nL 15.375 0 \nz\n\" id=\"ArialMT-104\"/>\n       </defs>\n       <use xlink:href=\"#ArialMT-80\"/>\n       <use x=\"66.699219\" xlink:href=\"#ArialMT-97\"/>\n       <use x=\"122.314453\" xlink:href=\"#ArialMT-114\"/>\n       <use x=\"155.615234\" xlink:href=\"#ArialMT-99\"/>\n       <use x=\"205.615234\" xlink:href=\"#ArialMT-104\"/>\n      </g>\n     </g>\n    </g>\n    <g id=\"xtick_6\">\n     <g id=\"text_6\">\n      <!-- Fare -->\n      <g style=\"fill:#262626;\" transform=\"translate(252.091133 273.968164)rotate(-90)scale(0.165 -0.165)\">\n       <defs>\n        <path d=\"M 8.203125 0 \nL 8.203125 71.578125 \nL 56.5 71.578125 \nL 56.5 63.140625 \nL 17.671875 63.140625 \nL 17.671875 40.96875 \nL 51.265625 40.96875 \nL 51.265625 32.515625 \nL 17.671875 32.515625 \nL 17.671875 0 \nz\n\" id=\"ArialMT-70\"/>\n       </defs>\n       <use xlink:href=\"#ArialMT-70\"/>\n       <use x=\"61.083984\" xlink:href=\"#ArialMT-97\"/>\n       <use x=\"116.699219\" xlink:href=\"#ArialMT-114\"/>\n       <use x=\"150\" xlink:href=\"#ArialMT-101\"/>\n      </g>\n     </g>\n    </g>\n    <g id=\"xtick_7\">\n     <g id=\"text_7\">\n      <!-- Sex_female -->\n      <g style=\"fill:#262626;\" transform=\"translate(276.540771 327.17293)rotate(-90)scale(0.165 -0.165)\">\n       <defs>\n        <path d=\"M 0.734375 0 \nL 19.671875 26.953125 \nL 2.15625 51.859375 \nL 13.140625 51.859375 \nL 21.09375 39.703125 \nQ 23.34375 36.234375 24.703125 33.890625 \nQ 26.859375 37.109375 28.65625 39.59375 \nL 37.40625 51.859375 \nL 47.90625 51.859375 \nL 29.984375 27.4375 \nL 49.265625 0 \nL 38.484375 0 \nL 27.828125 16.109375 \nL 25 20.453125 \nL 11.375 0 \nz\n\" id=\"ArialMT-120\"/>\n        <path d=\"M -1.515625 -19.875 \nL -1.515625 -13.53125 \nL 56.734375 -13.53125 \nL 56.734375 -19.875 \nz\n\" id=\"ArialMT-95\"/>\n        <path d=\"M 8.6875 0 \nL 8.6875 45.015625 \nL 0.921875 45.015625 \nL 0.921875 51.859375 \nL 8.6875 51.859375 \nL 8.6875 57.375 \nQ 8.6875 62.59375 9.625 65.140625 \nQ 10.890625 68.5625 14.078125 70.671875 \nQ 17.28125 72.796875 23.046875 72.796875 \nQ 26.765625 72.796875 31.25 71.921875 \nL 29.9375 64.265625 \nQ 27.203125 64.75 24.75 64.75 \nQ 20.75 64.75 19.09375 63.03125 \nQ 17.4375 61.328125 17.4375 56.640625 \nL 17.4375 51.859375 \nL 27.546875 51.859375 \nL 27.546875 45.015625 \nL 17.4375 45.015625 \nL 17.4375 0 \nz\n\" id=\"ArialMT-102\"/>\n        <path d=\"M 6.59375 0 \nL 6.59375 51.859375 \nL 14.453125 51.859375 \nL 14.453125 44.578125 \nQ 16.890625 48.390625 20.9375 50.703125 \nQ 25 53.03125 30.171875 53.03125 \nQ 35.9375 53.03125 39.625 50.640625 \nQ 43.3125 48.25 44.828125 43.953125 \nQ 50.984375 53.03125 60.84375 53.03125 \nQ 68.5625 53.03125 72.703125 48.75 \nQ 76.859375 44.484375 76.859375 35.59375 \nL 76.859375 0 \nL 68.109375 0 \nL 68.109375 32.671875 \nQ 68.109375 37.9375 67.25 40.25 \nQ 66.40625 42.578125 64.15625 43.984375 \nQ 61.921875 45.40625 58.890625 45.40625 \nQ 53.421875 45.40625 49.796875 41.765625 \nQ 46.1875 38.140625 46.1875 30.125 \nL 46.1875 0 \nL 37.40625 0 \nL 37.40625 33.6875 \nQ 37.40625 39.546875 35.25 42.46875 \nQ 33.109375 45.40625 28.21875 45.40625 \nQ 24.515625 45.40625 21.359375 43.453125 \nQ 18.21875 41.5 16.796875 37.734375 \nQ 15.375 33.984375 15.375 26.90625 \nL 15.375 0 \nz\n\" id=\"ArialMT-109\"/>\n       </defs>\n       <use xlink:href=\"#ArialMT-83\"/>\n       <use x=\"66.699219\" xlink:href=\"#ArialMT-101\"/>\n       <use x=\"122.314453\" xlink:href=\"#ArialMT-120\"/>\n       <use x=\"172.314453\" xlink:href=\"#ArialMT-95\"/>\n       <use x=\"227.929688\" xlink:href=\"#ArialMT-102\"/>\n       <use x=\"255.712891\" xlink:href=\"#ArialMT-101\"/>\n       <use x=\"311.328125\" xlink:href=\"#ArialMT-109\"/>\n       <use x=\"394.628906\" xlink:href=\"#ArialMT-97\"/>\n       <use x=\"450.244141\" xlink:href=\"#ArialMT-108\"/>\n       <use x=\"472.460938\" xlink:href=\"#ArialMT-101\"/>\n      </g>\n     </g>\n    </g>\n    <g id=\"xtick_8\">\n     <g id=\"text_8\">\n      <!-- Sex_male -->\n      <g style=\"fill:#262626;\" transform=\"translate(300.889862 313.413477)rotate(-90)scale(0.165 -0.165)\">\n       <use xlink:href=\"#ArialMT-83\"/>\n       <use x=\"66.699219\" xlink:href=\"#ArialMT-101\"/>\n       <use x=\"122.314453\" xlink:href=\"#ArialMT-120\"/>\n       <use x=\"172.314453\" xlink:href=\"#ArialMT-95\"/>\n       <use x=\"227.929688\" xlink:href=\"#ArialMT-109\"/>\n       <use x=\"311.230469\" xlink:href=\"#ArialMT-97\"/>\n       <use x=\"366.845703\" xlink:href=\"#ArialMT-108\"/>\n       <use x=\"389.0625\" xlink:href=\"#ArialMT-101\"/>\n      </g>\n     </g>\n    </g>\n    <g id=\"xtick_9\">\n     <g id=\"text_9\">\n      <!-- Embarked_C -->\n      <g style=\"fill:#262626;\" transform=\"translate(325.238952 336.333008)rotate(-90)scale(0.165 -0.165)\">\n       <defs>\n        <path d=\"M 7.90625 0 \nL 7.90625 71.578125 \nL 59.671875 71.578125 \nL 59.671875 63.140625 \nL 17.390625 63.140625 \nL 17.390625 41.21875 \nL 56.984375 41.21875 \nL 56.984375 32.8125 \nL 17.390625 32.8125 \nL 17.390625 8.453125 \nL 61.328125 8.453125 \nL 61.328125 0 \nz\n\" id=\"ArialMT-69\"/>\n        <path d=\"M 6.640625 0 \nL 6.640625 71.578125 \nL 15.4375 71.578125 \nL 15.4375 30.765625 \nL 36.234375 51.859375 \nL 47.609375 51.859375 \nL 27.78125 32.625 \nL 49.609375 0 \nL 38.765625 0 \nL 21.625 26.515625 \nL 15.4375 20.5625 \nL 15.4375 0 \nz\n\" id=\"ArialMT-107\"/>\n        <path d=\"M 58.796875 25.09375 \nL 68.265625 22.703125 \nQ 65.28125 11.03125 57.546875 4.90625 \nQ 49.8125 -1.21875 38.625 -1.21875 \nQ 27.046875 -1.21875 19.796875 3.484375 \nQ 12.546875 8.203125 8.765625 17.140625 \nQ 4.984375 26.078125 4.984375 36.328125 \nQ 4.984375 47.515625 9.25 55.828125 \nQ 13.53125 64.15625 21.40625 68.46875 \nQ 29.296875 72.796875 38.765625 72.796875 \nQ 49.515625 72.796875 56.828125 67.328125 \nQ 64.15625 61.859375 67.046875 51.953125 \nL 57.71875 49.75 \nQ 55.21875 57.5625 50.484375 61.125 \nQ 45.75 64.703125 38.578125 64.703125 \nQ 30.328125 64.703125 24.78125 60.734375 \nQ 19.234375 56.78125 16.984375 50.109375 \nQ 14.75 43.453125 14.75 36.375 \nQ 14.75 27.25 17.40625 20.4375 \nQ 20.0625 13.625 25.671875 10.25 \nQ 31.296875 6.890625 37.84375 6.890625 \nQ 45.796875 6.890625 51.3125 11.46875 \nQ 56.84375 16.0625 58.796875 25.09375 \nz\n\" id=\"ArialMT-67\"/>\n       </defs>\n       <use xlink:href=\"#ArialMT-69\"/>\n       <use x=\"66.699219\" xlink:href=\"#ArialMT-109\"/>\n       <use x=\"150\" xlink:href=\"#ArialMT-98\"/>\n       <use x=\"205.615234\" xlink:href=\"#ArialMT-97\"/>\n       <use x=\"261.230469\" xlink:href=\"#ArialMT-114\"/>\n       <use x=\"294.53125\" xlink:href=\"#ArialMT-107\"/>\n       <use x=\"344.53125\" xlink:href=\"#ArialMT-101\"/>\n       <use x=\"400.146484\" xlink:href=\"#ArialMT-100\"/>\n       <use x=\"455.761719\" xlink:href=\"#ArialMT-95\"/>\n       <use x=\"511.376953\" xlink:href=\"#ArialMT-67\"/>\n      </g>\n     </g>\n    </g>\n    <g id=\"xtick_10\">\n     <g id=\"text_10\">\n      <!-- Embarked_Q -->\n      <g style=\"fill:#262626;\" transform=\"translate(349.5932 337.25082)rotate(-90)scale(0.165 -0.165)\">\n       <defs>\n        <path d=\"M 61.96875 7.671875 \nQ 68.5625 3.125 74.125 1.03125 \nL 71.34375 -5.5625 \nQ 63.625 -2.78125 55.953125 3.21875 \nQ 48 -1.21875 38.375 -1.21875 \nQ 28.65625 -1.21875 20.75 3.46875 \nQ 12.84375 8.15625 8.5625 16.640625 \nQ 4.296875 25.140625 4.296875 35.796875 \nQ 4.296875 46.390625 8.59375 55.078125 \nQ 12.890625 63.765625 20.828125 68.3125 \nQ 28.765625 72.859375 38.578125 72.859375 \nQ 48.484375 72.859375 56.4375 68.140625 \nQ 64.40625 63.421875 68.578125 54.953125 \nQ 72.75 46.484375 72.75 35.84375 \nQ 72.75 27 70.0625 19.9375 \nQ 67.390625 12.890625 61.96875 7.671875 \nz\nM 41.109375 19.78125 \nQ 49.3125 17.484375 54.640625 12.9375 \nQ 62.984375 20.5625 62.984375 35.84375 \nQ 62.984375 44.53125 60.03125 51.015625 \nQ 57.078125 57.515625 51.390625 61.109375 \nQ 45.703125 64.703125 38.625 64.703125 \nQ 28.03125 64.703125 21.046875 57.453125 \nQ 14.0625 50.203125 14.0625 35.796875 \nQ 14.0625 21.828125 20.96875 14.359375 \nQ 27.875 6.890625 38.625 6.890625 \nQ 43.703125 6.890625 48.1875 8.796875 \nQ 43.75 11.671875 38.8125 12.890625 \nz\n\" id=\"ArialMT-81\"/>\n       </defs>\n       <use xlink:href=\"#ArialMT-69\"/>\n       <use x=\"66.699219\" xlink:href=\"#ArialMT-109\"/>\n       <use x=\"150\" xlink:href=\"#ArialMT-98\"/>\n       <use x=\"205.615234\" xlink:href=\"#ArialMT-97\"/>\n       <use x=\"261.230469\" xlink:href=\"#ArialMT-114\"/>\n       <use x=\"294.53125\" xlink:href=\"#ArialMT-107\"/>\n       <use x=\"344.53125\" xlink:href=\"#ArialMT-101\"/>\n       <use x=\"400.146484\" xlink:href=\"#ArialMT-100\"/>\n       <use x=\"455.761719\" xlink:href=\"#ArialMT-95\"/>\n       <use x=\"511.376953\" xlink:href=\"#ArialMT-81\"/>\n      </g>\n     </g>\n    </g>\n    <g id=\"xtick_11\">\n     <g id=\"text_11\">\n      <!-- Embarked_S -->\n      <g style=\"fill:#262626;\" transform=\"translate(373.937134 335.42293)rotate(-90)scale(0.165 -0.165)\">\n       <use xlink:href=\"#ArialMT-69\"/>\n       <use x=\"66.699219\" xlink:href=\"#ArialMT-109\"/>\n       <use x=\"150\" xlink:href=\"#ArialMT-98\"/>\n       <use x=\"205.615234\" xlink:href=\"#ArialMT-97\"/>\n       <use x=\"261.230469\" xlink:href=\"#ArialMT-114\"/>\n       <use x=\"294.53125\" xlink:href=\"#ArialMT-107\"/>\n       <use x=\"344.53125\" xlink:href=\"#ArialMT-101\"/>\n       <use x=\"400.146484\" xlink:href=\"#ArialMT-100\"/>\n       <use x=\"455.761719\" xlink:href=\"#ArialMT-95\"/>\n       <use x=\"511.376953\" xlink:href=\"#ArialMT-83\"/>\n      </g>\n     </g>\n    </g>\n   </g>\n   <g id=\"matplotlib.axis_2\">\n    <g id=\"ytick_1\">\n     <g id=\"text_12\">\n      <!-- Survived -->\n      <g style=\"fill:#262626;\" transform=\"translate(40.212891 28.894027)scale(0.165 -0.165)\">\n       <use xlink:href=\"#ArialMT-83\"/>\n       <use x=\"66.699219\" xlink:href=\"#ArialMT-117\"/>\n       <use x=\"122.314453\" xlink:href=\"#ArialMT-114\"/>\n       <use x=\"155.615234\" xlink:href=\"#ArialMT-118\"/>\n       <use x=\"205.615234\" xlink:href=\"#ArialMT-105\"/>\n       <use x=\"227.832031\" xlink:href=\"#ArialMT-118\"/>\n       <use x=\"277.832031\" xlink:href=\"#ArialMT-101\"/>\n       <use x=\"333.447266\" xlink:href=\"#ArialMT-100\"/>\n      </g>\n     </g>\n    </g>\n    <g id=\"ytick_2\">\n     <g id=\"text_13\">\n      <!-- Pclass -->\n      <g style=\"fill:#262626;\" transform=\"translate(55.807969 48.6613)scale(0.165 -0.165)\">\n       <use xlink:href=\"#ArialMT-80\"/>\n       <use x=\"66.699219\" xlink:href=\"#ArialMT-99\"/>\n       <use x=\"116.699219\" xlink:href=\"#ArialMT-108\"/>\n       <use x=\"138.916016\" xlink:href=\"#ArialMT-97\"/>\n       <use x=\"194.53125\" xlink:href=\"#ArialMT-115\"/>\n       <use x=\"244.53125\" xlink:href=\"#ArialMT-115\"/>\n      </g>\n     </g>\n    </g>\n    <g id=\"ytick_3\">\n     <g id=\"text_14\">\n      <!-- Age -->\n      <g style=\"fill:#262626;\" transform=\"translate(75.048516 68.428572)scale(0.165 -0.165)\">\n       <use xlink:href=\"#ArialMT-65\"/>\n       <use x=\"66.699219\" xlink:href=\"#ArialMT-103\"/>\n       <use x=\"122.314453\" xlink:href=\"#ArialMT-101\"/>\n      </g>\n     </g>\n    </g>\n    <g id=\"ytick_4\">\n     <g id=\"text_15\">\n      <!-- SibSp -->\n      <g style=\"fill:#262626;\" transform=\"translate(60.376406 88.296392)scale(0.165 -0.165)\">\n       <use xlink:href=\"#ArialMT-83\"/>\n       <use x=\"66.699219\" xlink:href=\"#ArialMT-105\"/>\n       <use x=\"88.916016\" xlink:href=\"#ArialMT-98\"/>\n       <use x=\"144.53125\" xlink:href=\"#ArialMT-83\"/>\n       <use x=\"211.230469\" xlink:href=\"#ArialMT-112\"/>\n      </g>\n     </g>\n    </g>\n    <g id=\"ytick_5\">\n     <g id=\"text_16\">\n      <!-- Parch -->\n      <g style=\"fill:#262626;\" transform=\"translate(61.304531 107.963118)scale(0.165 -0.165)\">\n       <use xlink:href=\"#ArialMT-80\"/>\n       <use x=\"66.699219\" xlink:href=\"#ArialMT-97\"/>\n       <use x=\"122.314453\" xlink:href=\"#ArialMT-114\"/>\n       <use x=\"155.615234\" xlink:href=\"#ArialMT-99\"/>\n       <use x=\"205.615234\" xlink:href=\"#ArialMT-104\"/>\n      </g>\n     </g>\n    </g>\n    <g id=\"ytick_6\">\n     <g id=\"text_17\">\n      <!-- Fare -->\n      <g style=\"fill:#262626;\" transform=\"translate(70.482656 127.730391)scale(0.165 -0.165)\">\n       <use xlink:href=\"#ArialMT-70\"/>\n       <use x=\"61.083984\" xlink:href=\"#ArialMT-97\"/>\n       <use x=\"116.699219\" xlink:href=\"#ArialMT-114\"/>\n       <use x=\"150\" xlink:href=\"#ArialMT-101\"/>\n      </g>\n     </g>\n    </g>\n    <g id=\"ytick_7\">\n     <g id=\"text_18\">\n      <!-- Sex_female -->\n      <g style=\"fill:#262626;\" transform=\"translate(17.277891 147.59821)scale(0.165 -0.165)\">\n       <use xlink:href=\"#ArialMT-83\"/>\n       <use x=\"66.699219\" xlink:href=\"#ArialMT-101\"/>\n       <use x=\"122.314453\" xlink:href=\"#ArialMT-120\"/>\n       <use x=\"172.314453\" xlink:href=\"#ArialMT-95\"/>\n       <use x=\"227.929688\" xlink:href=\"#ArialMT-102\"/>\n       <use x=\"255.712891\" xlink:href=\"#ArialMT-101\"/>\n       <use x=\"311.328125\" xlink:href=\"#ArialMT-109\"/>\n       <use x=\"394.628906\" xlink:href=\"#ArialMT-97\"/>\n       <use x=\"450.244141\" xlink:href=\"#ArialMT-108\"/>\n       <use x=\"472.460938\" xlink:href=\"#ArialMT-101\"/>\n      </g>\n     </g>\n    </g>\n    <g id=\"ytick_8\">\n     <g id=\"text_19\">\n      <!-- Sex_male -->\n      <g style=\"fill:#262626;\" transform=\"translate(31.037344 167.365483)scale(0.165 -0.165)\">\n       <use xlink:href=\"#ArialMT-83\"/>\n       <use x=\"66.699219\" xlink:href=\"#ArialMT-101\"/>\n       <use x=\"122.314453\" xlink:href=\"#ArialMT-120\"/>\n       <use x=\"172.314453\" xlink:href=\"#ArialMT-95\"/>\n       <use x=\"227.929688\" xlink:href=\"#ArialMT-109\"/>\n       <use x=\"311.230469\" xlink:href=\"#ArialMT-97\"/>\n       <use x=\"366.845703\" xlink:href=\"#ArialMT-108\"/>\n       <use x=\"389.0625\" xlink:href=\"#ArialMT-101\"/>\n      </g>\n     </g>\n    </g>\n    <g id=\"ytick_9\">\n     <g id=\"text_20\">\n      <!-- Embarked_C -->\n      <g style=\"fill:#262626;\" transform=\"translate(8.117812 187.132756)scale(0.165 -0.165)\">\n       <use xlink:href=\"#ArialMT-69\"/>\n       <use x=\"66.699219\" xlink:href=\"#ArialMT-109\"/>\n       <use x=\"150\" xlink:href=\"#ArialMT-98\"/>\n       <use x=\"205.615234\" xlink:href=\"#ArialMT-97\"/>\n       <use x=\"261.230469\" xlink:href=\"#ArialMT-114\"/>\n       <use x=\"294.53125\" xlink:href=\"#ArialMT-107\"/>\n       <use x=\"344.53125\" xlink:href=\"#ArialMT-101\"/>\n       <use x=\"400.146484\" xlink:href=\"#ArialMT-100\"/>\n       <use x=\"455.761719\" xlink:href=\"#ArialMT-95\"/>\n       <use x=\"511.376953\" xlink:href=\"#ArialMT-67\"/>\n      </g>\n     </g>\n    </g>\n    <g id=\"ytick_10\">\n     <g id=\"text_21\">\n      <!-- Embarked_Q -->\n      <g style=\"fill:#262626;\" transform=\"translate(7.2 206.905185)scale(0.165 -0.165)\">\n       <use xlink:href=\"#ArialMT-69\"/>\n       <use x=\"66.699219\" xlink:href=\"#ArialMT-109\"/>\n       <use x=\"150\" xlink:href=\"#ArialMT-98\"/>\n       <use x=\"205.615234\" xlink:href=\"#ArialMT-97\"/>\n       <use x=\"261.230469\" xlink:href=\"#ArialMT-114\"/>\n       <use x=\"294.53125\" xlink:href=\"#ArialMT-107\"/>\n       <use x=\"344.53125\" xlink:href=\"#ArialMT-101\"/>\n       <use x=\"400.146484\" xlink:href=\"#ArialMT-100\"/>\n       <use x=\"455.761719\" xlink:href=\"#ArialMT-95\"/>\n       <use x=\"511.376953\" xlink:href=\"#ArialMT-81\"/>\n      </g>\n     </g>\n    </g>\n    <g id=\"ytick_11\">\n     <g id=\"text_22\">\n      <!-- Embarked_S -->\n      <g style=\"fill:#262626;\" transform=\"translate(9.027891 226.667301)scale(0.165 -0.165)\">\n       <use xlink:href=\"#ArialMT-69\"/>\n       <use x=\"66.699219\" xlink:href=\"#ArialMT-109\"/>\n       <use x=\"150\" xlink:href=\"#ArialMT-98\"/>\n       <use x=\"205.615234\" xlink:href=\"#ArialMT-97\"/>\n       <use x=\"261.230469\" xlink:href=\"#ArialMT-114\"/>\n       <use x=\"294.53125\" xlink:href=\"#ArialMT-107\"/>\n       <use x=\"344.53125\" xlink:href=\"#ArialMT-101\"/>\n       <use x=\"400.146484\" xlink:href=\"#ArialMT-100\"/>\n       <use x=\"455.761719\" xlink:href=\"#ArialMT-95\"/>\n       <use x=\"511.376953\" xlink:href=\"#ArialMT-83\"/>\n      </g>\n     </g>\n    </g>\n   </g>\n   <g id=\"QuadMesh_1\">\n    <path clip-path=\"url(#p479a5ca0e1)\" d=\"M 113.905625 13.105195 \nL 138.254716 13.105195 \nL 138.254716 32.872468 \nL 113.905625 32.872468 \nL 113.905625 13.105195 \n\" style=\"fill:#faebdd;\"/>\n    <path clip-path=\"url(#p479a5ca0e1)\" d=\"M 138.254716 13.105195 \nL 162.603807 13.105195 \nL 162.603807 32.872468 \nL 138.254716 32.872468 \nL 138.254716 13.105195 \n\" style=\"fill:#841e5a;\"/>\n    <path clip-path=\"url(#p479a5ca0e1)\" d=\"M 162.603807 13.105195 \nL 186.952898 13.105195 \nL 186.952898 32.872468 \nL 162.603807 32.872468 \nL 162.603807 13.105195 \n\" style=\"fill:#c11754;\"/>\n    <path clip-path=\"url(#p479a5ca0e1)\" d=\"M 186.952898 13.105195 \nL 211.301989 13.105195 \nL 211.301989 32.872468 \nL 186.952898 32.872468 \nL 186.952898 13.105195 \n\" style=\"fill:#c41753;\"/>\n    <path clip-path=\"url(#p479a5ca0e1)\" d=\"M 211.301989 13.105195 \nL 235.65108 13.105195 \nL 235.65108 32.872468 \nL 211.301989 32.872468 \nL 211.301989 13.105195 \n\" style=\"fill:#d82748;\"/>\n    <path clip-path=\"url(#p479a5ca0e1)\" d=\"M 235.65108 13.105195 \nL 260.00017 13.105195 \nL 260.00017 32.872468 \nL 235.65108 32.872468 \nL 235.65108 13.105195 \n\" style=\"fill:#ec4c3e;\"/>\n    <path clip-path=\"url(#p479a5ca0e1)\" d=\"M 260.00017 13.105195 \nL 284.349261 13.105195 \nL 284.349261 32.872468 \nL 260.00017 32.872468 \nL 260.00017 13.105195 \n\" style=\"fill:#f59067;\"/>\n    <path clip-path=\"url(#p479a5ca0e1)\" d=\"M 284.349261 13.105195 \nL 308.698352 13.105195 \nL 308.698352 32.872468 \nL 284.349261 32.872468 \nL 284.349261 13.105195 \n\" style=\"fill:#581e4f;\"/>\n    <path clip-path=\"url(#p479a5ca0e1)\" d=\"M 308.698352 13.105195 \nL 333.047443 13.105195 \nL 333.047443 32.872468 \nL 308.698352 32.872468 \nL 308.698352 13.105195 \n\" style=\"fill:#e43841;\"/>\n    <path clip-path=\"url(#p479a5ca0e1)\" d=\"M 333.047443 13.105195 \nL 357.396534 13.105195 \nL 357.396534 32.872468 \nL 333.047443 32.872468 \nL 333.047443 13.105195 \n\" style=\"fill:#cb1b4f;\"/>\n    <path clip-path=\"url(#p479a5ca0e1)\" d=\"M 357.396534 13.105195 \nL 381.745625 13.105195 \nL 381.745625 32.872468 \nL 357.396534 32.872468 \nL 357.396534 13.105195 \n\" style=\"fill:#ab185a;\"/>\n    <path clip-path=\"url(#p479a5ca0e1)\" d=\"M 113.905625 32.872468 \nL 138.254716 32.872468 \nL 138.254716 52.639741 \nL 113.905625 52.639741 \nL 113.905625 32.872468 \n\" style=\"fill:#841e5a;\"/>\n    <path clip-path=\"url(#p479a5ca0e1)\" d=\"M 138.254716 32.872468 \nL 162.603807 32.872468 \nL 162.603807 52.639741 \nL 138.254716 52.639741 \nL 138.254716 32.872468 \n\" style=\"fill:#faebdd;\"/>\n    <path clip-path=\"url(#p479a5ca0e1)\" d=\"M 162.603807 32.872468 \nL 186.952898 32.872468 \nL 186.952898 52.639741 \nL 162.603807 52.639741 \nL 162.603807 32.872468 \n\" style=\"fill:#751f58;\"/>\n    <path clip-path=\"url(#p479a5ca0e1)\" d=\"M 186.952898 32.872468 \nL 211.301989 32.872468 \nL 211.301989 52.639741 \nL 186.952898 52.639741 \nL 186.952898 32.872468 \n\" style=\"fill:#d82748;\"/>\n    <path clip-path=\"url(#p479a5ca0e1)\" d=\"M 211.301989 32.872468 \nL 235.65108 32.872468 \nL 235.65108 52.639741 \nL 211.301989 52.639741 \nL 211.301989 32.872468 \n\" style=\"fill:#ce1d4e;\"/>\n    <path clip-path=\"url(#p479a5ca0e1)\" d=\"M 235.65108 32.872468 \nL 260.00017 32.872468 \nL 260.00017 52.639741 \nL 235.65108 52.639741 \nL 235.65108 32.872468 \n\" style=\"fill:#561e4f;\"/>\n    <path clip-path=\"url(#p479a5ca0e1)\" d=\"M 260.00017 32.872468 \nL 284.349261 32.872468 \nL 284.349261 52.639741 \nL 260.00017 52.639741 \nL 260.00017 32.872468 \n\" style=\"fill:#b01759;\"/>\n    <path clip-path=\"url(#p479a5ca0e1)\" d=\"M 284.349261 32.872468 \nL 308.698352 32.872468 \nL 308.698352 52.639741 \nL 284.349261 52.639741 \nL 284.349261 32.872468 \n\" style=\"fill:#df2f44;\"/>\n    <path clip-path=\"url(#p479a5ca0e1)\" d=\"M 308.698352 32.872468 \nL 333.047443 32.872468 \nL 333.047443 52.639741 \nL 308.698352 52.639741 \nL 308.698352 32.872468 \n\" style=\"fill:#971c5b;\"/>\n    <path clip-path=\"url(#p479a5ca0e1)\" d=\"M 333.047443 32.872468 \nL 357.396534 32.872468 \nL 357.396534 52.639741 \nL 333.047443 52.639741 \nL 333.047443 32.872468 \n\" style=\"fill:#ea443e;\"/>\n    <path clip-path=\"url(#p479a5ca0e1)\" d=\"M 357.396534 32.872468 \nL 381.745625 32.872468 \nL 381.745625 52.639741 \nL 357.396534 52.639741 \nL 357.396534 32.872468 \n\" style=\"fill:#d72549;\"/>\n    <path clip-path=\"url(#p479a5ca0e1)\" d=\"M 113.905625 52.639741 \nL 138.254716 52.639741 \nL 138.254716 72.407013 \nL 113.905625 72.407013 \nL 113.905625 52.639741 \n\" style=\"fill:#c11754;\"/>\n    <path clip-path=\"url(#p479a5ca0e1)\" d=\"M 138.254716 52.639741 \nL 162.603807 52.639741 \nL 162.603807 72.407013 \nL 138.254716 72.407013 \nL 138.254716 52.639741 \n\" style=\"fill:#751f58;\"/>\n    <path clip-path=\"url(#p479a5ca0e1)\" d=\"M 162.603807 52.639741 \nL 186.952898 52.639741 \nL 186.952898 72.407013 \nL 162.603807 72.407013 \nL 162.603807 52.639741 \n\" style=\"fill:#faebdd;\"/>\n    <path clip-path=\"url(#p479a5ca0e1)\" d=\"M 186.952898 52.639741 \nL 211.301989 52.639741 \nL 211.301989 72.407013 \nL 186.952898 72.407013 \nL 186.952898 52.639741 \n\" style=\"fill:#971c5b;\"/>\n    <path clip-path=\"url(#p479a5ca0e1)\" d=\"M 211.301989 52.639741 \nL 235.65108 52.639741 \nL 235.65108 72.407013 \nL 211.301989 72.407013 \nL 211.301989 52.639741 \n\" style=\"fill:#a8185a;\"/>\n    <path clip-path=\"url(#p479a5ca0e1)\" d=\"M 235.65108 52.639741 \nL 260.00017 52.639741 \nL 260.00017 72.407013 \nL 235.65108 72.407013 \nL 235.65108 52.639741 \n\" style=\"fill:#de2e44;\"/>\n    <path clip-path=\"url(#p479a5ca0e1)\" d=\"M 260.00017 52.639741 \nL 284.349261 52.639741 \nL 284.349261 72.407013 \nL 260.00017 72.407013 \nL 260.00017 52.639741 \n\" style=\"fill:#ba1656;\"/>\n    <path clip-path=\"url(#p479a5ca0e1)\" d=\"M 284.349261 52.639741 \nL 308.698352 52.639741 \nL 308.698352 72.407013 \nL 284.349261 72.407013 \nL 284.349261 52.639741 \n\" style=\"fill:#d82748;\"/>\n    <path clip-path=\"url(#p479a5ca0e1)\" d=\"M 308.698352 52.639741 \nL 333.047443 52.639741 \nL 333.047443 72.407013 \nL 308.698352 72.407013 \nL 308.698352 52.639741 \n\" style=\"fill:#d2204c;\"/>\n    <path clip-path=\"url(#p479a5ca0e1)\" d=\"M 333.047443 52.639741 \nL 357.396534 52.639741 \nL 357.396534 72.407013 \nL 333.047443 72.407013 \nL 333.047443 52.639741 \n\" style=\"fill:#ba1656;\"/>\n    <path clip-path=\"url(#p479a5ca0e1)\" d=\"M 357.396534 52.639741 \nL 381.745625 52.639741 \nL 381.745625 72.407013 \nL 357.396534 72.407013 \nL 357.396534 52.639741 \n\" style=\"fill:#cd1c4e;\"/>\n    <path clip-path=\"url(#p479a5ca0e1)\" d=\"M 113.905625 72.407013 \nL 138.254716 72.407013 \nL 138.254716 92.174286 \nL 113.905625 92.174286 \nL 113.905625 72.407013 \n\" style=\"fill:#c41753;\"/>\n    <path clip-path=\"url(#p479a5ca0e1)\" d=\"M 138.254716 72.407013 \nL 162.603807 72.407013 \nL 162.603807 92.174286 \nL 138.254716 92.174286 \nL 138.254716 72.407013 \n\" style=\"fill:#d82748;\"/>\n    <path clip-path=\"url(#p479a5ca0e1)\" d=\"M 162.603807 72.407013 \nL 186.952898 72.407013 \nL 186.952898 92.174286 \nL 162.603807 92.174286 \nL 162.603807 72.407013 \n\" style=\"fill:#971c5b;\"/>\n    <path clip-path=\"url(#p479a5ca0e1)\" d=\"M 186.952898 72.407013 \nL 211.301989 72.407013 \nL 211.301989 92.174286 \nL 186.952898 92.174286 \nL 186.952898 72.407013 \n\" style=\"fill:#faebdd;\"/>\n    <path clip-path=\"url(#p479a5ca0e1)\" d=\"M 211.301989 72.407013 \nL 235.65108 72.407013 \nL 235.65108 92.174286 \nL 211.301989 92.174286 \nL 211.301989 72.407013 \n\" style=\"fill:#f37450;\"/>\n    <path clip-path=\"url(#p479a5ca0e1)\" d=\"M 235.65108 72.407013 \nL 260.00017 72.407013 \nL 260.00017 92.174286 \nL 235.65108 92.174286 \nL 235.65108 72.407013 \n\" style=\"fill:#e33641;\"/>\n    <path clip-path=\"url(#p479a5ca0e1)\" d=\"M 260.00017 72.407013 \nL 284.349261 72.407013 \nL 284.349261 92.174286 \nL 260.00017 92.174286 \nL 260.00017 72.407013 \n\" style=\"fill:#dd2c45;\"/>\n    <path clip-path=\"url(#p479a5ca0e1)\" d=\"M 284.349261 72.407013 \nL 308.698352 72.407013 \nL 308.698352 92.174286 \nL 284.349261 92.174286 \nL 284.349261 72.407013 \n\" style=\"fill:#b41658;\"/>\n    <path clip-path=\"url(#p479a5ca0e1)\" d=\"M 308.698352 72.407013 \nL 333.047443 72.407013 \nL 333.047443 92.174286 \nL 308.698352 92.174286 \nL 308.698352 72.407013 \n\" style=\"fill:#bf1654;\"/>\n    <path clip-path=\"url(#p479a5ca0e1)\" d=\"M 333.047443 72.407013 \nL 357.396534 72.407013 \nL 357.396534 92.174286 \nL 333.047443 92.174286 \nL 333.047443 72.407013 \n\" style=\"fill:#c51852;\"/>\n    <path clip-path=\"url(#p479a5ca0e1)\" d=\"M 357.396534 72.407013 \nL 381.745625 72.407013 \nL 381.745625 92.174286 \nL 357.396534 92.174286 \nL 357.396534 72.407013 \n\" style=\"fill:#d62449;\"/>\n    <path clip-path=\"url(#p479a5ca0e1)\" d=\"M 113.905625 92.174286 \nL 138.254716 92.174286 \nL 138.254716 111.941559 \nL 113.905625 111.941559 \nL 113.905625 92.174286 \n\" style=\"fill:#d82748;\"/>\n    <path clip-path=\"url(#p479a5ca0e1)\" d=\"M 138.254716 92.174286 \nL 162.603807 92.174286 \nL 162.603807 111.941559 \nL 138.254716 111.941559 \nL 138.254716 92.174286 \n\" style=\"fill:#ce1d4e;\"/>\n    <path clip-path=\"url(#p479a5ca0e1)\" d=\"M 162.603807 92.174286 \nL 186.952898 92.174286 \nL 186.952898 111.941559 \nL 162.603807 111.941559 \nL 162.603807 92.174286 \n\" style=\"fill:#a8185a;\"/>\n    <path clip-path=\"url(#p479a5ca0e1)\" d=\"M 186.952898 92.174286 \nL 211.301989 92.174286 \nL 211.301989 111.941559 \nL 186.952898 111.941559 \nL 186.952898 92.174286 \n\" style=\"fill:#f37450;\"/>\n    <path clip-path=\"url(#p479a5ca0e1)\" d=\"M 211.301989 92.174286 \nL 235.65108 92.174286 \nL 235.65108 111.941559 \nL 211.301989 111.941559 \nL 211.301989 92.174286 \n\" style=\"fill:#faebdd;\"/>\n    <path clip-path=\"url(#p479a5ca0e1)\" d=\"M 235.65108 92.174286 \nL 260.00017 92.174286 \nL 260.00017 111.941559 \nL 235.65108 111.941559 \nL 235.65108 92.174286 \n\" style=\"fill:#e9423e;\"/>\n    <path clip-path=\"url(#p479a5ca0e1)\" d=\"M 260.00017 92.174286 \nL 284.349261 92.174286 \nL 284.349261 111.941559 \nL 260.00017 111.941559 \nL 260.00017 92.174286 \n\" style=\"fill:#ec4a3e;\"/>\n    <path clip-path=\"url(#p479a5ca0e1)\" d=\"M 284.349261 92.174286 \nL 308.698352 92.174286 \nL 308.698352 111.941559 \nL 284.349261 111.941559 \nL 284.349261 92.174286 \n\" style=\"fill:#971c5b;\"/>\n    <path clip-path=\"url(#p479a5ca0e1)\" d=\"M 308.698352 92.174286 \nL 333.047443 92.174286 \nL 333.047443 111.941559 \nL 308.698352 111.941559 \nL 308.698352 92.174286 \n\" style=\"fill:#c81951;\"/>\n    <path clip-path=\"url(#p479a5ca0e1)\" d=\"M 333.047443 92.174286 \nL 357.396534 92.174286 \nL 357.396534 111.941559 \nL 333.047443 111.941559 \nL 333.047443 92.174286 \n\" style=\"fill:#ba1656;\"/>\n    <path clip-path=\"url(#p479a5ca0e1)\" d=\"M 357.396534 92.174286 \nL 381.745625 92.174286 \nL 381.745625 111.941559 \nL 357.396534 111.941559 \nL 357.396534 92.174286 \n\" style=\"fill:#d5224a;\"/>\n    <path clip-path=\"url(#p479a5ca0e1)\" d=\"M 113.905625 111.941559 \nL 138.254716 111.941559 \nL 138.254716 131.708832 \nL 113.905625 131.708832 \nL 113.905625 111.941559 \n\" style=\"fill:#ec4c3e;\"/>\n    <path clip-path=\"url(#p479a5ca0e1)\" d=\"M 138.254716 111.941559 \nL 162.603807 111.941559 \nL 162.603807 131.708832 \nL 138.254716 131.708832 \nL 138.254716 111.941559 \n\" style=\"fill:#561e4f;\"/>\n    <path clip-path=\"url(#p479a5ca0e1)\" d=\"M 162.603807 111.941559 \nL 186.952898 111.941559 \nL 186.952898 131.708832 \nL 162.603807 131.708832 \nL 162.603807 111.941559 \n\" style=\"fill:#de2e44;\"/>\n    <path clip-path=\"url(#p479a5ca0e1)\" d=\"M 186.952898 111.941559 \nL 211.301989 111.941559 \nL 211.301989 131.708832 \nL 186.952898 131.708832 \nL 186.952898 111.941559 \n\" style=\"fill:#e33641;\"/>\n    <path clip-path=\"url(#p479a5ca0e1)\" d=\"M 211.301989 111.941559 \nL 235.65108 111.941559 \nL 235.65108 131.708832 \nL 211.301989 131.708832 \nL 211.301989 111.941559 \n\" style=\"fill:#e9423e;\"/>\n    <path clip-path=\"url(#p479a5ca0e1)\" d=\"M 235.65108 111.941559 \nL 260.00017 111.941559 \nL 260.00017 131.708832 \nL 235.65108 131.708832 \nL 235.65108 111.941559 \n\" style=\"fill:#faebdd;\"/>\n    <path clip-path=\"url(#p479a5ca0e1)\" d=\"M 260.00017 111.941559 \nL 284.349261 111.941559 \nL 284.349261 131.708832 \nL 260.00017 131.708832 \nL 260.00017 111.941559 \n\" style=\"fill:#e63b40;\"/>\n    <path clip-path=\"url(#p479a5ca0e1)\" d=\"M 284.349261 111.941559 \nL 308.698352 111.941559 \nL 308.698352 131.708832 \nL 284.349261 131.708832 \nL 284.349261 111.941559 \n\" style=\"fill:#a4195b;\"/>\n    <path clip-path=\"url(#p479a5ca0e1)\" d=\"M 308.698352 111.941559 \nL 333.047443 111.941559 \nL 333.047443 131.708832 \nL 308.698352 131.708832 \nL 308.698352 111.941559 \n\" style=\"fill:#ed503e;\"/>\n    <path clip-path=\"url(#p479a5ca0e1)\" d=\"M 333.047443 111.941559 \nL 357.396534 111.941559 \nL 357.396534 131.708832 \nL 333.047443 131.708832 \nL 333.047443 111.941559 \n\" style=\"fill:#b41658;\"/>\n    <path clip-path=\"url(#p479a5ca0e1)\" d=\"M 357.396534 111.941559 \nL 381.745625 111.941559 \nL 381.745625 131.708832 \nL 357.396534 131.708832 \nL 357.396534 111.941559 \n\" style=\"fill:#aa185a;\"/>\n    <path clip-path=\"url(#p479a5ca0e1)\" d=\"M 113.905625 131.708832 \nL 138.254716 131.708832 \nL 138.254716 151.476104 \nL 113.905625 151.476104 \nL 113.905625 131.708832 \n\" style=\"fill:#f59067;\"/>\n    <path clip-path=\"url(#p479a5ca0e1)\" d=\"M 138.254716 131.708832 \nL 162.603807 131.708832 \nL 162.603807 151.476104 \nL 138.254716 151.476104 \nL 138.254716 131.708832 \n\" style=\"fill:#b01759;\"/>\n    <path clip-path=\"url(#p479a5ca0e1)\" d=\"M 162.603807 131.708832 \nL 186.952898 131.708832 \nL 186.952898 151.476104 \nL 162.603807 151.476104 \nL 162.603807 131.708832 \n\" style=\"fill:#ba1656;\"/>\n    <path clip-path=\"url(#p479a5ca0e1)\" d=\"M 186.952898 131.708832 \nL 211.301989 131.708832 \nL 211.301989 151.476104 \nL 186.952898 151.476104 \nL 186.952898 131.708832 \n\" style=\"fill:#dd2c45;\"/>\n    <path clip-path=\"url(#p479a5ca0e1)\" d=\"M 211.301989 131.708832 \nL 235.65108 131.708832 \nL 235.65108 151.476104 \nL 211.301989 151.476104 \nL 211.301989 131.708832 \n\" style=\"fill:#ec4a3e;\"/>\n    <path clip-path=\"url(#p479a5ca0e1)\" d=\"M 235.65108 131.708832 \nL 260.00017 131.708832 \nL 260.00017 151.476104 \nL 235.65108 151.476104 \nL 235.65108 131.708832 \n\" style=\"fill:#e63b40;\"/>\n    <path clip-path=\"url(#p479a5ca0e1)\" d=\"M 260.00017 131.708832 \nL 284.349261 131.708832 \nL 284.349261 151.476104 \nL 260.00017 151.476104 \nL 260.00017 131.708832 \n\" style=\"fill:#faebdd;\"/>\n    <path clip-path=\"url(#p479a5ca0e1)\" d=\"M 284.349261 131.708832 \nL 308.698352 131.708832 \nL 308.698352 151.476104 \nL 284.349261 151.476104 \nL 284.349261 131.708832 \n\" style=\"fill:#03051a;\"/>\n    <path clip-path=\"url(#p479a5ca0e1)\" d=\"M 308.698352 131.708832 \nL 333.047443 131.708832 \nL 333.047443 151.476104 \nL 308.698352 151.476104 \nL 308.698352 131.708832 \n\" style=\"fill:#d82748;\"/>\n    <path clip-path=\"url(#p479a5ca0e1)\" d=\"M 333.047443 131.708832 \nL 357.396534 131.708832 \nL 357.396534 151.476104 \nL 333.047443 151.476104 \nL 333.047443 131.708832 \n\" style=\"fill:#d72549;\"/>\n    <path clip-path=\"url(#p479a5ca0e1)\" d=\"M 357.396534 131.708832 \nL 381.745625 131.708832 \nL 381.745625 151.476104 \nL 357.396534 151.476104 \nL 357.396534 131.708832 \n\" style=\"fill:#b21758;\"/>\n    <path clip-path=\"url(#p479a5ca0e1)\" d=\"M 113.905625 151.476104 \nL 138.254716 151.476104 \nL 138.254716 171.243377 \nL 113.905625 171.243377 \nL 113.905625 151.476104 \n\" style=\"fill:#581e4f;\"/>\n    <path clip-path=\"url(#p479a5ca0e1)\" d=\"M 138.254716 151.476104 \nL 162.603807 151.476104 \nL 162.603807 171.243377 \nL 138.254716 171.243377 \nL 138.254716 151.476104 \n\" style=\"fill:#df2f44;\"/>\n    <path clip-path=\"url(#p479a5ca0e1)\" d=\"M 162.603807 151.476104 \nL 186.952898 151.476104 \nL 186.952898 171.243377 \nL 162.603807 171.243377 \nL 162.603807 151.476104 \n\" style=\"fill:#d82748;\"/>\n    <path clip-path=\"url(#p479a5ca0e1)\" d=\"M 186.952898 151.476104 \nL 211.301989 151.476104 \nL 211.301989 171.243377 \nL 186.952898 171.243377 \nL 186.952898 151.476104 \n\" style=\"fill:#b41658;\"/>\n    <path clip-path=\"url(#p479a5ca0e1)\" d=\"M 211.301989 151.476104 \nL 235.65108 151.476104 \nL 235.65108 171.243377 \nL 211.301989 171.243377 \nL 211.301989 151.476104 \n\" style=\"fill:#971c5b;\"/>\n    <path clip-path=\"url(#p479a5ca0e1)\" d=\"M 235.65108 151.476104 \nL 260.00017 151.476104 \nL 260.00017 171.243377 \nL 235.65108 171.243377 \nL 235.65108 151.476104 \n\" style=\"fill:#a4195b;\"/>\n    <path clip-path=\"url(#p479a5ca0e1)\" d=\"M 260.00017 151.476104 \nL 284.349261 151.476104 \nL 284.349261 171.243377 \nL 260.00017 171.243377 \nL 260.00017 151.476104 \n\" style=\"fill:#03051a;\"/>\n    <path clip-path=\"url(#p479a5ca0e1)\" d=\"M 284.349261 151.476104 \nL 308.698352 151.476104 \nL 308.698352 171.243377 \nL 284.349261 171.243377 \nL 284.349261 151.476104 \n\" style=\"fill:#faebdd;\"/>\n    <path clip-path=\"url(#p479a5ca0e1)\" d=\"M 308.698352 151.476104 \nL 333.047443 151.476104 \nL 333.047443 171.243377 \nL 308.698352 171.243377 \nL 308.698352 151.476104 \n\" style=\"fill:#ba1656;\"/>\n    <path clip-path=\"url(#p479a5ca0e1)\" d=\"M 333.047443 151.476104 \nL 357.396534 151.476104 \nL 357.396534 171.243377 \nL 333.047443 171.243377 \nL 333.047443 151.476104 \n\" style=\"fill:#bc1656;\"/>\n    <path clip-path=\"url(#p479a5ca0e1)\" d=\"M 357.396534 151.476104 \nL 381.745625 151.476104 \nL 381.745625 171.243377 \nL 357.396534 171.243377 \nL 357.396534 151.476104 \n\" style=\"fill:#de2e44;\"/>\n    <path clip-path=\"url(#p479a5ca0e1)\" d=\"M 113.905625 171.243377 \nL 138.254716 171.243377 \nL 138.254716 191.01065 \nL 113.905625 191.01065 \nL 113.905625 171.243377 \n\" style=\"fill:#e43841;\"/>\n    <path clip-path=\"url(#p479a5ca0e1)\" d=\"M 138.254716 171.243377 \nL 162.603807 171.243377 \nL 162.603807 191.01065 \nL 138.254716 191.01065 \nL 138.254716 171.243377 \n\" style=\"fill:#971c5b;\"/>\n    <path clip-path=\"url(#p479a5ca0e1)\" d=\"M 162.603807 171.243377 \nL 186.952898 171.243377 \nL 186.952898 191.01065 \nL 162.603807 191.01065 \nL 162.603807 171.243377 \n\" style=\"fill:#d2204c;\"/>\n    <path clip-path=\"url(#p479a5ca0e1)\" d=\"M 186.952898 171.243377 \nL 211.301989 171.243377 \nL 211.301989 191.01065 \nL 186.952898 191.01065 \nL 186.952898 171.243377 \n\" style=\"fill:#bf1654;\"/>\n    <path clip-path=\"url(#p479a5ca0e1)\" d=\"M 211.301989 171.243377 \nL 235.65108 171.243377 \nL 235.65108 191.01065 \nL 211.301989 191.01065 \nL 211.301989 171.243377 \n\" style=\"fill:#c81951;\"/>\n    <path clip-path=\"url(#p479a5ca0e1)\" d=\"M 235.65108 171.243377 \nL 260.00017 171.243377 \nL 260.00017 191.01065 \nL 235.65108 191.01065 \nL 235.65108 171.243377 \n\" style=\"fill:#ed503e;\"/>\n    <path clip-path=\"url(#p479a5ca0e1)\" d=\"M 260.00017 171.243377 \nL 284.349261 171.243377 \nL 284.349261 191.01065 \nL 260.00017 191.01065 \nL 260.00017 171.243377 \n\" style=\"fill:#d82748;\"/>\n    <path clip-path=\"url(#p479a5ca0e1)\" d=\"M 284.349261 171.243377 \nL 308.698352 171.243377 \nL 308.698352 191.01065 \nL 284.349261 191.01065 \nL 284.349261 171.243377 \n\" style=\"fill:#ba1656;\"/>\n    <path clip-path=\"url(#p479a5ca0e1)\" d=\"M 308.698352 171.243377 \nL 333.047443 171.243377 \nL 333.047443 191.01065 \nL 308.698352 191.01065 \nL 308.698352 171.243377 \n\" style=\"fill:#faebdd;\"/>\n    <path clip-path=\"url(#p479a5ca0e1)\" d=\"M 333.047443 171.243377 \nL 357.396534 171.243377 \nL 357.396534 191.01065 \nL 333.047443 191.01065 \nL 333.047443 171.243377 \n\" style=\"fill:#ab185a;\"/>\n    <path clip-path=\"url(#p479a5ca0e1)\" d=\"M 357.396534 171.243377 \nL 381.745625 171.243377 \nL 381.745625 191.01065 \nL 357.396534 191.01065 \nL 357.396534 171.243377 \n\" style=\"fill:#281535;\"/>\n    <path clip-path=\"url(#p479a5ca0e1)\" d=\"M 113.905625 191.01065 \nL 138.254716 191.01065 \nL 138.254716 210.777923 \nL 113.905625 210.777923 \nL 113.905625 191.01065 \n\" style=\"fill:#cb1b4f;\"/>\n    <path clip-path=\"url(#p479a5ca0e1)\" d=\"M 138.254716 191.01065 \nL 162.603807 191.01065 \nL 162.603807 210.777923 \nL 138.254716 210.777923 \nL 138.254716 191.01065 \n\" style=\"fill:#ea443e;\"/>\n    <path clip-path=\"url(#p479a5ca0e1)\" d=\"M 162.603807 191.01065 \nL 186.952898 191.01065 \nL 186.952898 210.777923 \nL 162.603807 210.777923 \nL 162.603807 191.01065 \n\" style=\"fill:#ba1656;\"/>\n    <path clip-path=\"url(#p479a5ca0e1)\" d=\"M 186.952898 191.01065 \nL 211.301989 191.01065 \nL 211.301989 210.777923 \nL 186.952898 210.777923 \nL 186.952898 191.01065 \n\" style=\"fill:#c51852;\"/>\n    <path clip-path=\"url(#p479a5ca0e1)\" d=\"M 211.301989 191.01065 \nL 235.65108 191.01065 \nL 235.65108 210.777923 \nL 211.301989 210.777923 \nL 211.301989 191.01065 \n\" style=\"fill:#ba1656;\"/>\n    <path clip-path=\"url(#p479a5ca0e1)\" d=\"M 235.65108 191.01065 \nL 260.00017 191.01065 \nL 260.00017 210.777923 \nL 235.65108 210.777923 \nL 235.65108 191.01065 \n\" style=\"fill:#b41658;\"/>\n    <path clip-path=\"url(#p479a5ca0e1)\" d=\"M 260.00017 191.01065 \nL 284.349261 191.01065 \nL 284.349261 210.777923 \nL 260.00017 210.777923 \nL 260.00017 191.01065 \n\" style=\"fill:#d72549;\"/>\n    <path clip-path=\"url(#p479a5ca0e1)\" d=\"M 284.349261 191.01065 \nL 308.698352 191.01065 \nL 308.698352 210.777923 \nL 284.349261 210.777923 \nL 284.349261 191.01065 \n\" style=\"fill:#bc1656;\"/>\n    <path clip-path=\"url(#p479a5ca0e1)\" d=\"M 308.698352 191.01065 \nL 333.047443 191.01065 \nL 333.047443 210.777923 \nL 308.698352 210.777923 \nL 308.698352 191.01065 \n\" style=\"fill:#ab185a;\"/>\n    <path clip-path=\"url(#p479a5ca0e1)\" d=\"M 333.047443 191.01065 \nL 357.396534 191.01065 \nL 357.396534 210.777923 \nL 333.047443 210.777923 \nL 333.047443 191.01065 \n\" style=\"fill:#faebdd;\"/>\n    <path clip-path=\"url(#p479a5ca0e1)\" d=\"M 357.396534 191.01065 \nL 381.745625 191.01065 \nL 381.745625 210.777923 \nL 357.396534 210.777923 \nL 357.396534 191.01065 \n\" style=\"fill:#611f53;\"/>\n    <path clip-path=\"url(#p479a5ca0e1)\" d=\"M 113.905625 210.777923 \nL 138.254716 210.777923 \nL 138.254716 230.545195 \nL 113.905625 230.545195 \nL 113.905625 210.777923 \n\" style=\"fill:#ab185a;\"/>\n    <path clip-path=\"url(#p479a5ca0e1)\" d=\"M 138.254716 210.777923 \nL 162.603807 210.777923 \nL 162.603807 230.545195 \nL 138.254716 230.545195 \nL 138.254716 210.777923 \n\" style=\"fill:#d72549;\"/>\n    <path clip-path=\"url(#p479a5ca0e1)\" d=\"M 162.603807 210.777923 \nL 186.952898 210.777923 \nL 186.952898 230.545195 \nL 162.603807 230.545195 \nL 162.603807 210.777923 \n\" style=\"fill:#cd1c4e;\"/>\n    <path clip-path=\"url(#p479a5ca0e1)\" d=\"M 186.952898 210.777923 \nL 211.301989 210.777923 \nL 211.301989 230.545195 \nL 186.952898 230.545195 \nL 186.952898 210.777923 \n\" style=\"fill:#d62449;\"/>\n    <path clip-path=\"url(#p479a5ca0e1)\" d=\"M 211.301989 210.777923 \nL 235.65108 210.777923 \nL 235.65108 230.545195 \nL 211.301989 230.545195 \nL 211.301989 210.777923 \n\" style=\"fill:#d5224a;\"/>\n    <path clip-path=\"url(#p479a5ca0e1)\" d=\"M 235.65108 210.777923 \nL 260.00017 210.777923 \nL 260.00017 230.545195 \nL 235.65108 230.545195 \nL 235.65108 210.777923 \n\" style=\"fill:#aa185a;\"/>\n    <path clip-path=\"url(#p479a5ca0e1)\" d=\"M 260.00017 210.777923 \nL 284.349261 210.777923 \nL 284.349261 230.545195 \nL 260.00017 230.545195 \nL 260.00017 210.777923 \n\" style=\"fill:#b21758;\"/>\n    <path clip-path=\"url(#p479a5ca0e1)\" d=\"M 284.349261 210.777923 \nL 308.698352 210.777923 \nL 308.698352 230.545195 \nL 284.349261 230.545195 \nL 284.349261 210.777923 \n\" style=\"fill:#de2e44;\"/>\n    <path clip-path=\"url(#p479a5ca0e1)\" d=\"M 308.698352 210.777923 \nL 333.047443 210.777923 \nL 333.047443 230.545195 \nL 308.698352 230.545195 \nL 308.698352 210.777923 \n\" style=\"fill:#281535;\"/>\n    <path clip-path=\"url(#p479a5ca0e1)\" d=\"M 333.047443 210.777923 \nL 357.396534 210.777923 \nL 357.396534 230.545195 \nL 333.047443 230.545195 \nL 333.047443 210.777923 \n\" style=\"fill:#611f53;\"/>\n    <path clip-path=\"url(#p479a5ca0e1)\" d=\"M 357.396534 210.777923 \nL 381.745625 210.777923 \nL 381.745625 230.545195 \nL 357.396534 230.545195 \nL 357.396534 210.777923 \n\" style=\"fill:#faebdd;\"/>\n   </g>\n  </g>\n  <g id=\"axes_2\">\n   <g id=\"patch_3\">\n    <path clip-path=\"url(#p19f3830cdf)\" d=\"M 398.485625 230.545195 \nL 398.485625 229.69582 \nL 398.485625 13.95457 \nL 398.485625 13.105195 \nL 409.357625 13.105195 \nL 409.357625 13.95457 \nL 409.357625 229.69582 \nL 409.357625 230.545195 \nz\n\" style=\"fill:#eaeaf2;stroke:#eaeaf2;stroke-linejoin:miter;stroke-width:0.01;\"/>\n   </g>\n   <g id=\"matplotlib.axis_3\"/>\n   <g id=\"matplotlib.axis_4\">\n    <g id=\"ytick_12\">\n     <g id=\"line2d_1\">\n      <defs>\n       <path d=\"M 0 0 \nL 6 0 \n\" id=\"m7e7807dee7\" style=\"stroke:#262626;stroke-width:1.25;\"/>\n      </defs>\n      <g>\n       <use style=\"fill:#262626;stroke:#262626;stroke-width:1.25;\" x=\"409.357625\" xlink:href=\"#m7e7807dee7\" y=\"230.545195\"/>\n      </g>\n     </g>\n     <g id=\"text_23\">\n      <!-- −1.0 -->\n      <g style=\"fill:#262626;\" transform=\"translate(418.857625 236.450391)scale(0.165 -0.165)\">\n       <defs>\n        <path d=\"M 52.828125 31.203125 \nL 5.5625 31.203125 \nL 5.5625 39.40625 \nL 52.828125 39.40625 \nz\n\" id=\"ArialMT-8722\"/>\n        <path d=\"M 37.25 0 \nL 28.46875 0 \nL 28.46875 56 \nQ 25.296875 52.984375 20.140625 49.953125 \nQ 14.984375 46.921875 10.890625 45.40625 \nL 10.890625 53.90625 \nQ 18.265625 57.375 23.78125 62.296875 \nQ 29.296875 67.234375 31.59375 71.875 \nL 37.25 71.875 \nz\n\" id=\"ArialMT-49\"/>\n        <path d=\"M 9.078125 0 \nL 9.078125 10.015625 \nL 19.09375 10.015625 \nL 19.09375 0 \nz\n\" id=\"ArialMT-46\"/>\n        <path d=\"M 4.15625 35.296875 \nQ 4.15625 48 6.765625 55.734375 \nQ 9.375 63.484375 14.515625 67.671875 \nQ 19.671875 71.875 27.484375 71.875 \nQ 33.25 71.875 37.59375 69.546875 \nQ 41.9375 67.234375 44.765625 62.859375 \nQ 47.609375 58.5 49.21875 52.21875 \nQ 50.828125 45.953125 50.828125 35.296875 \nQ 50.828125 22.703125 48.234375 14.96875 \nQ 45.65625 7.234375 40.5 3 \nQ 35.359375 -1.21875 27.484375 -1.21875 \nQ 17.140625 -1.21875 11.234375 6.203125 \nQ 4.15625 15.140625 4.15625 35.296875 \nz\nM 13.1875 35.296875 \nQ 13.1875 17.671875 17.3125 11.828125 \nQ 21.4375 6 27.484375 6 \nQ 33.546875 6 37.671875 11.859375 \nQ 41.796875 17.71875 41.796875 35.296875 \nQ 41.796875 52.984375 37.671875 58.78125 \nQ 33.546875 64.59375 27.390625 64.59375 \nQ 21.34375 64.59375 17.71875 59.46875 \nQ 13.1875 52.9375 13.1875 35.296875 \nz\n\" id=\"ArialMT-48\"/>\n       </defs>\n       <use xlink:href=\"#ArialMT-8722\"/>\n       <use x=\"58.398438\" xlink:href=\"#ArialMT-49\"/>\n       <use x=\"114.013672\" xlink:href=\"#ArialMT-46\"/>\n       <use x=\"141.796875\" xlink:href=\"#ArialMT-48\"/>\n      </g>\n     </g>\n    </g>\n    <g id=\"ytick_13\">\n     <g id=\"line2d_2\">\n      <g>\n       <use style=\"fill:#262626;stroke:#262626;stroke-width:1.25;\" x=\"409.357625\" xlink:href=\"#m7e7807dee7\" y=\"176.185195\"/>\n      </g>\n     </g>\n     <g id=\"text_24\">\n      <!-- −0.5 -->\n      <g style=\"fill:#262626;\" transform=\"translate(418.857625 182.090391)scale(0.165 -0.165)\">\n       <defs>\n        <path d=\"M 4.15625 18.75 \nL 13.375 19.53125 \nQ 14.40625 12.796875 18.140625 9.390625 \nQ 21.875 6 27.15625 6 \nQ 33.5 6 37.890625 10.78125 \nQ 42.28125 15.578125 42.28125 23.484375 \nQ 42.28125 31 38.0625 35.34375 \nQ 33.84375 39.703125 27 39.703125 \nQ 22.75 39.703125 19.328125 37.765625 \nQ 15.921875 35.84375 13.96875 32.765625 \nL 5.71875 33.84375 \nL 12.640625 70.609375 \nL 48.25 70.609375 \nL 48.25 62.203125 \nL 19.671875 62.203125 \nL 15.828125 42.96875 \nQ 22.265625 47.46875 29.34375 47.46875 \nQ 38.71875 47.46875 45.15625 40.96875 \nQ 51.609375 34.46875 51.609375 24.265625 \nQ 51.609375 14.546875 45.953125 7.46875 \nQ 39.0625 -1.21875 27.15625 -1.21875 \nQ 17.390625 -1.21875 11.203125 4.25 \nQ 5.03125 9.71875 4.15625 18.75 \nz\n\" id=\"ArialMT-53\"/>\n       </defs>\n       <use xlink:href=\"#ArialMT-8722\"/>\n       <use x=\"58.398438\" xlink:href=\"#ArialMT-48\"/>\n       <use x=\"114.013672\" xlink:href=\"#ArialMT-46\"/>\n       <use x=\"141.796875\" xlink:href=\"#ArialMT-53\"/>\n      </g>\n     </g>\n    </g>\n    <g id=\"ytick_14\">\n     <g id=\"line2d_3\">\n      <g>\n       <use style=\"fill:#262626;stroke:#262626;stroke-width:1.25;\" x=\"409.357625\" xlink:href=\"#m7e7807dee7\" y=\"121.825195\"/>\n      </g>\n     </g>\n     <g id=\"text_25\">\n      <!-- 0.0 -->\n      <g style=\"fill:#262626;\" transform=\"translate(418.857625 127.730391)scale(0.165 -0.165)\">\n       <use xlink:href=\"#ArialMT-48\"/>\n       <use x=\"55.615234\" xlink:href=\"#ArialMT-46\"/>\n       <use x=\"83.398438\" xlink:href=\"#ArialMT-48\"/>\n      </g>\n     </g>\n    </g>\n    <g id=\"ytick_15\">\n     <g id=\"line2d_4\">\n      <g>\n       <use style=\"fill:#262626;stroke:#262626;stroke-width:1.25;\" x=\"409.357625\" xlink:href=\"#m7e7807dee7\" y=\"67.465195\"/>\n      </g>\n     </g>\n     <g id=\"text_26\">\n      <!-- 0.5 -->\n      <g style=\"fill:#262626;\" transform=\"translate(418.857625 73.370391)scale(0.165 -0.165)\">\n       <use xlink:href=\"#ArialMT-48\"/>\n       <use x=\"55.615234\" xlink:href=\"#ArialMT-46\"/>\n       <use x=\"83.398438\" xlink:href=\"#ArialMT-53\"/>\n      </g>\n     </g>\n    </g>\n    <g id=\"ytick_16\">\n     <g id=\"line2d_5\">\n      <g>\n       <use style=\"fill:#262626;stroke:#262626;stroke-width:1.25;\" x=\"409.357625\" xlink:href=\"#m7e7807dee7\" y=\"13.105195\"/>\n      </g>\n     </g>\n     <g id=\"text_27\">\n      <!-- 1.0 -->\n      <g style=\"fill:#262626;\" transform=\"translate(418.857625 19.010391)scale(0.165 -0.165)\">\n       <use xlink:href=\"#ArialMT-49\"/>\n       <use x=\"55.615234\" xlink:href=\"#ArialMT-46\"/>\n       <use x=\"83.398438\" xlink:href=\"#ArialMT-48\"/>\n      </g>\n     </g>\n    </g>\n   </g>\n   <image height=\"217\" id=\"image3b2cb9dfe8\" transform=\"scale(1 -1)translate(0 -217)\" width=\"11\" x=\"398\" xlink:href=\"data:image/png;base64,\niVBORw0KGgoAAAANSUhEUgAAAAsAAADZCAYAAAD2WsoCAAABX0lEQVR4nO2YOw7CUAwE/eMS3P+cQE3nKUYyEqmt1XjXcV5ezuP5juUzmbmtpcVhKXfWvri0BstrsEiDGgZK0POZxc3cAMqeG6hBMZQbymbcmhsaxgSajf1jzoYWN8TYP+bmJ8WjDRJzQ4sbYfSN4fesa806OKKWMoz795g9jNaUa/17oLrBdh1RZm8KccPDmBsYLG7CPAjjiBsaxrz30uZGuoGB3MiwmGGDAKMZMykGRovWJdgF06S4SDHCgMrrWuoG2DJmgwxjXRtT/QLFjBlgIOtENwa4waYOMYvWAeUC554Jbza8YnDuIZc9EAMqg5M5UwbnggmC4TGLGOAby257EDMsJsykQYZBrg09N5K4Eb3/pxdD8XxOcGlxJ26ijN5B8MurukES9DCQG2zXoQQt6+DbrWF4DSLlRsN/g/kH3ci8MXWoQRYKafBG3NkPSdkcfsvn9FbBv8Ev5X2DH6Z7KyPJet8vAAAAAElFTkSuQmCC\" y=\"-13\"/>\n   <g id=\"patch_4\">\n    <path d=\"M 398.485625 230.545195 \nL 398.485625 229.69582 \nL 398.485625 13.95457 \nL 398.485625 13.105195 \nL 409.357625 13.105195 \nL 409.357625 13.95457 \nL 409.357625 229.69582 \nL 409.357625 230.545195 \nz\n\" style=\"fill:none;\"/>\n   </g>\n  </g>\n </g>\n <defs>\n  <clipPath id=\"p479a5ca0e1\">\n   <rect height=\"217.44\" width=\"267.84\" x=\"113.905625\" y=\"13.105195\"/>\n  </clipPath>\n  <clipPath id=\"p19f3830cdf\">\n   <rect height=\"217.44\" width=\"10.872\" x=\"398.485625\" y=\"13.105195\"/>\n  </clipPath>\n </defs>\n</svg>\n",
      "image/png": "[encoded data removed]"
     },
     "metadata": {}
    }
   ],
   "source": [
    "plt.figure(figsize=(6, 4))\n",
    "sns.heatmap(df_train_dummied.corr())"
   ]
  },
  {
   "cell_type": "code",
   "execution_count": 44,
   "metadata": {},
   "outputs": [],
   "source": [
    "used_features = [\"Pclass\", \"Age\", \"SibSp\", \"Parch\", \"Sex_female\", \"Sex_male\", \"Embarked_C\", \"Embarked_Q\", \"Embarked_S\"]"
   ]
  },
  {
   "cell_type": "code",
   "execution_count": 46,
   "metadata": {},
   "outputs": [],
   "source": [
    "x = df_train_dummied[used_features].values\n",
    "y = df_train_dummied['Survived']"
   ]
  },
  {
   "cell_type": "code",
   "execution_count": 48,
   "metadata": {},
   "outputs": [],
   "source": [
    "X_train, X_test, Y_train, Y_test = train_test_split(x, y, test_size=0.3, random_state=42)"
   ]
  },
  {
   "cell_type": "code",
   "execution_count": 49,
   "metadata": {},
   "outputs": [
    {
     "output_type": "stream",
     "name": "stdout",
     "text": [
      "(622, 9)\n(267, 9)\n"
     ]
    }
   ],
   "source": [
    "print(X_train.shape)\n",
    "print(X_test.shape)"
   ]
  },
  {
   "cell_type": "code",
   "execution_count": 50,
   "metadata": {},
   "outputs": [],
   "source": [
    "logreg = LogisticRegression()"
   ]
  },
  {
   "cell_type": "code",
   "execution_count": 52,
   "metadata": {},
   "outputs": [
    {
     "output_type": "execute_result",
     "data": {
      "text/plain": [
       "LogisticRegression()"
      ]
     },
     "metadata": {},
     "execution_count": 52
    }
   ],
   "source": [
    "logreg.fit(X_train, Y_train)"
   ]
  },
  {
   "cell_type": "code",
   "execution_count": 53,
   "metadata": {},
   "outputs": [],
   "source": [
    "y_pred = logreg.predict(X_test)"
   ]
  },
  {
   "cell_type": "code",
   "execution_count": 54,
   "metadata": {},
   "outputs": [
    {
     "output_type": "execute_result",
     "data": {
      "text/plain": [
       "array([[138,  29],\n",
       "       [ 25,  75]])"
      ]
     },
     "metadata": {},
     "execution_count": 54
    }
   ],
   "source": [
    "metrics.confusion_matrix(Y_test, y_pred)"
   ]
  },
  {
   "cell_type": "code",
   "execution_count": 56,
   "metadata": {},
   "outputs": [
    {
     "output_type": "execute_result",
     "data": {
      "text/plain": [
       "0    167\n",
       "1    100\n",
       "Name: Survived, dtype: int64"
      ]
     },
     "metadata": {},
     "execution_count": 56
    }
   ],
   "source": [
    "Y_test.value_counts()"
   ]
  },
  {
   "cell_type": "code",
   "execution_count": 58,
   "metadata": {},
   "outputs": [
    {
     "output_type": "execute_result",
     "data": {
      "text/plain": [
       "0.797752808988764"
      ]
     },
     "metadata": {},
     "execution_count": 58
    }
   ],
   "source": [
    "metrics.accuracy_score(Y_test, y_pred)"
   ]
  },
  {
   "cell_type": "code",
   "execution_count": 59,
   "metadata": {},
   "outputs": [
    {
     "output_type": "execute_result",
     "data": {
      "text/plain": [
       "267"
      ]
     },
     "metadata": {},
     "execution_count": 59
    }
   ],
   "source": [
    "len(X_test)"
   ]
  },
  {
   "cell_type": "code",
   "execution_count": 60,
   "metadata": {},
   "outputs": [
    {
     "output_type": "stream",
     "name": "stdout",
     "text": [
      "              precision    recall  f1-score   support\n\n           0       0.85      0.83      0.84       167\n           1       0.72      0.75      0.74       100\n\n    accuracy                           0.80       267\n   macro avg       0.78      0.79      0.79       267\nweighted avg       0.80      0.80      0.80       267\n\n"
     ]
    }
   ],
   "source": [
    "print(classification_report(Y_test, y_pred))"
   ]
  },
  {
   "cell_type": "code",
   "execution_count": 61,
   "metadata": {},
   "outputs": [
    {
     "output_type": "execute_result",
     "data": {
      "text/plain": [
       "array([[-1.19432294, -0.04964554, -0.40747426, -0.01162756,  1.33986673,\n",
       "        -1.33500213,  0.3376917 , -0.08613119, -0.24669591]])"
      ]
     },
     "metadata": {},
     "execution_count": 61
    }
   ],
   "source": [
    "logreg.coef_"
   ]
  },
  {
   "cell_type": "code",
   "execution_count": 62,
   "metadata": {},
   "outputs": [
    {
     "output_type": "execute_result",
     "data": {
      "text/plain": [
       "array([4.34536751])"
      ]
     },
     "metadata": {},
     "execution_count": 62
    }
   ],
   "source": [
    "logreg.intercept_"
   ]
  },
  {
   "cell_type": "code",
   "execution_count": 63,
   "metadata": {},
   "outputs": [
    {
     "output_type": "execute_result",
     "data": {
      "text/plain": [
       "Index(['Pclass', 'Age', 'SibSp', 'Parch', 'Sex_female', 'Sex_male',\n",
       "       'Embarked_C', 'Embarked_Q', 'Embarked_S'],\n",
       "      dtype='object')"
      ]
     },
     "metadata": {},
     "execution_count": 63
    }
   ],
   "source": [
    "df_train_dummied[used_features].columns"
   ]
  },
  {
   "cell_type": "code",
   "execution_count": 64,
   "metadata": {},
   "outputs": [
    {
     "output_type": "execute_result",
     "data": {
      "text/plain": [
       "array([[0.90108819, 0.09891181],\n",
       "       [0.04235266, 0.95764734],\n",
       "       [0.20793049, 0.79206951],\n",
       "       [0.75293783, 0.24706217],\n",
       "       [0.03464507, 0.96535493],\n",
       "       [0.89657442, 0.10342558],\n",
       "       [0.70393665, 0.29606335],\n",
       "       [0.8655131 , 0.1344869 ],\n",
       "       [0.07774948, 0.92225052],\n",
       "       [0.03424939, 0.96575061],\n",
       "       [0.60331695, 0.39668305],\n",
       "       [0.43619913, 0.56380087],\n",
       "       [0.96614483, 0.03385517],\n",
       "       [0.87359988, 0.12640012],\n",
       "       [0.90542575, 0.09457425],\n",
       "       [0.90108819, 0.09891181],\n",
       "       [0.67612431, 0.32387569],\n",
       "       [0.80634051, 0.19365949],\n",
       "       [0.73080338, 0.26919662],\n",
       "       [0.88192555, 0.11807445],\n",
       "       [0.73093775, 0.26906225],\n",
       "       [0.08350097, 0.91649903],\n",
       "       [0.94863366, 0.05136634],\n",
       "       [0.42144383, 0.57855617],\n",
       "       [0.88192555, 0.11807445],\n",
       "       [0.45812023, 0.54187977],\n",
       "       [0.69589553, 0.30410447],\n",
       "       [0.14545076, 0.85454924],\n",
       "       [0.56648851, 0.43351149],\n",
       "       [0.71417749, 0.28582251],\n",
       "       [0.4553018 , 0.5446982 ],\n",
       "       [0.30477934, 0.69522066],\n",
       "       [0.88192555, 0.11807445],\n",
       "       [0.4093883 , 0.5906117 ],\n",
       "       [0.96299893, 0.03700107],\n",
       "       [0.66262469, 0.33737531],\n",
       "       [0.20340403, 0.79659597],\n",
       "       [0.39744073, 0.60255927],\n",
       "       [0.80634051, 0.19365949],\n",
       "       [0.88192555, 0.11807445],\n",
       "       [0.8708698 , 0.1291302 ],\n",
       "       [0.4484447 , 0.5515553 ],\n",
       "       [0.68283343, 0.31716657],\n",
       "       [0.89187938, 0.10812062],\n",
       "       [0.52961576, 0.47038424],\n",
       "       [0.45812023, 0.54187977],\n",
       "       [0.20750898, 0.79249102],\n",
       "       [0.88192555, 0.11807445],\n",
       "       [0.78800217, 0.21199783],\n",
       "       [0.08828973, 0.91171027],\n",
       "       [0.06421683, 0.93578317],\n",
       "       [0.25485787, 0.74514213],\n",
       "       [0.87118771, 0.12881229],\n",
       "       [0.90175287, 0.09824713],\n",
       "       [0.08371779, 0.91628221],\n",
       "       [0.10845436, 0.89154564],\n",
       "       [0.45158214, 0.54841786],\n",
       "       [0.94022184, 0.05977816],\n",
       "       [0.83391448, 0.16608552],\n",
       "       [0.75293783, 0.24706217],\n",
       "       [0.6551053 , 0.3448947 ],\n",
       "       [0.48840394, 0.51159606],\n",
       "       [0.19117454, 0.80882546],\n",
       "       [0.83391448, 0.16608552],\n",
       "       [0.1532334 , 0.8467666 ],\n",
       "       [0.62681944, 0.37318056],\n",
       "       [0.96448285, 0.03551715],\n",
       "       [0.90108819, 0.09891181],\n",
       "       [0.07774948, 0.92225052],\n",
       "       [0.02565292, 0.97434708],\n",
       "       [0.72420287, 0.27579713],\n",
       "       [0.02379505, 0.97620495],\n",
       "       [0.22702106, 0.77297894],\n",
       "       [0.89657442, 0.10342558],\n",
       "       [0.58398263, 0.41601737],\n",
       "       [0.21210247, 0.78789753],\n",
       "       [0.85353057, 0.14646943],\n",
       "       [0.92803525, 0.07196475],\n",
       "       [0.14872315, 0.85127685],\n",
       "       [0.46763884, 0.53236116],\n",
       "       [0.5935064 , 0.4064936 ],\n",
       "       [0.03424939, 0.96575061],\n",
       "       [0.10592886, 0.89407114],\n",
       "       [0.30477934, 0.69522066],\n",
       "       [0.84818023, 0.15181977],\n",
       "       [0.86415382, 0.13584618],\n",
       "       [0.94806411, 0.05193589],\n",
       "       [0.68283343, 0.31716657],\n",
       "       [0.88699807, 0.11300193],\n",
       "       [0.88192555, 0.11807445],\n",
       "       [0.91359258, 0.08640742],\n",
       "       [0.31791557, 0.68208443],\n",
       "       [0.87118771, 0.12881229],\n",
       "       [0.92111561, 0.07888439],\n",
       "       [0.88192555, 0.11807445],\n",
       "       [0.21204833, 0.78795167],\n",
       "       [0.88192555, 0.11807445],\n",
       "       [0.79617713, 0.20382287],\n",
       "       [0.80798707, 0.19201293],\n",
       "       [0.86415382, 0.13584618],\n",
       "       [0.88699807, 0.11300193],\n",
       "       [0.02965834, 0.97034166],\n",
       "       [0.45931968, 0.54068032],\n",
       "       [0.91743203, 0.08256797],\n",
       "       [0.93720343, 0.06279657],\n",
       "       [0.95045491, 0.04954509],\n",
       "       [0.37398939, 0.62601061],\n",
       "       [0.03112093, 0.96887907],\n",
       "       [0.7903628 , 0.2096372 ],\n",
       "       [0.8655131 , 0.1344869 ],\n",
       "       [0.85962878, 0.14037122],\n",
       "       [0.26889048, 0.73110952],\n",
       "       [0.96285782, 0.03714218],\n",
       "       [0.10917974, 0.89082026],\n",
       "       [0.90531281, 0.09468719],\n",
       "       [0.89397671, 0.10602329],\n",
       "       [0.90935919, 0.09064081],\n",
       "       [0.74358714, 0.25641286],\n",
       "       [0.40945876, 0.59054124],\n",
       "       [0.91898061, 0.08101939],\n",
       "       [0.54810446, 0.45189554],\n",
       "       [0.05981337, 0.94018663],\n",
       "       [0.96092019, 0.03907981],\n",
       "       [0.88192555, 0.11807445],\n",
       "       [0.02994869, 0.97005131],\n",
       "       [0.07015938, 0.92984062],\n",
       "       [0.42144383, 0.57855617],\n",
       "       [0.13004454, 0.86995546],\n",
       "       [0.27416793, 0.72583207],\n",
       "       [0.80366907, 0.19633093],\n",
       "       [0.16656477, 0.83343523],\n",
       "       [0.60331695, 0.39668305],\n",
       "       [0.88376552, 0.11623448],\n",
       "       [0.80634051, 0.19365949],\n",
       "       [0.36244092, 0.63755908],\n",
       "       [0.25128345, 0.74871655],\n",
       "       [0.91359258, 0.08640742],\n",
       "       [0.13488972, 0.86511028],\n",
       "       [0.36482668, 0.63517332],\n",
       "       [0.10483267, 0.89516733],\n",
       "       [0.27349117, 0.72650883],\n",
       "       [0.88192555, 0.11807445],\n",
       "       [0.15978652, 0.84021348],\n",
       "       [0.49454513, 0.50545487],\n",
       "       [0.04780143, 0.95219857],\n",
       "       [0.66521913, 0.33478087],\n",
       "       [0.94792459, 0.05207541],\n",
       "       [0.07015938, 0.92984062],\n",
       "       [0.88192555, 0.11807445],\n",
       "       [0.07093943, 0.92906057],\n",
       "       [0.88192555, 0.11807445],\n",
       "       [0.22229481, 0.77770519],\n",
       "       [0.68222022, 0.31777978],\n",
       "       [0.4229774 , 0.5770226 ],\n",
       "       [0.81727416, 0.18272584],\n",
       "       [0.11663035, 0.88336965],\n",
       "       [0.4553018 , 0.5446982 ],\n",
       "       [0.91092186, 0.08907814],\n",
       "       [0.90839617, 0.09160383],\n",
       "       [0.08635282, 0.91364718],\n",
       "       [0.9218615 , 0.0781385 ],\n",
       "       [0.02719489, 0.97280511],\n",
       "       [0.91743203, 0.08256797],\n",
       "       [0.86415382, 0.13584618],\n",
       "       [0.74741138, 0.25258862],\n",
       "       [0.50081325, 0.49918675],\n",
       "       [0.11921803, 0.88078197],\n",
       "       [0.87118771, 0.12881229],\n",
       "       [0.92803525, 0.07196475],\n",
       "       [0.20581863, 0.79418137],\n",
       "       [0.13488972, 0.86511028],\n",
       "       [0.31044211, 0.68955789],\n",
       "       [0.17164045, 0.82835955],\n",
       "       [0.84067695, 0.15932305],\n",
       "       [0.27648799, 0.72351201],\n",
       "       [0.62165366, 0.37834634],\n",
       "       [0.73207112, 0.26792888],\n",
       "       [0.22480425, 0.77519575],\n",
       "       [0.04101201, 0.95898799],\n",
       "       [0.30132634, 0.69867366],\n",
       "       [0.91743203, 0.08256797],\n",
       "       [0.93207269, 0.06792731],\n",
       "       [0.97274708, 0.02725292],\n",
       "       [0.47424125, 0.52575875],\n",
       "       [0.87118771, 0.12881229],\n",
       "       [0.90108819, 0.09891181],\n",
       "       [0.88192555, 0.11807445],\n",
       "       [0.56648851, 0.43351149],\n",
       "       [0.74358714, 0.25641286],\n",
       "       [0.86638139, 0.13361861],\n",
       "       [0.93494022, 0.06505978],\n",
       "       [0.90531281, 0.09468719],\n",
       "       [0.30477934, 0.69522066],\n",
       "       [0.90083567, 0.09916433],\n",
       "       [0.89286956, 0.10713044],\n",
       "       [0.81886506, 0.18113494],\n",
       "       [0.87118771, 0.12881229],\n",
       "       [0.14251394, 0.85748606],\n",
       "       [0.54452111, 0.45547889],\n",
       "       [0.63875713, 0.36124287],\n",
       "       [0.93222546, 0.06777454],\n",
       "       [0.40945876, 0.59054124],\n",
       "       [0.68222022, 0.31777978],\n",
       "       [0.94556455, 0.05443545],\n",
       "       [0.84067695, 0.15932305],\n",
       "       [0.77225948, 0.22774052],\n",
       "       [0.89187938, 0.10812062],\n",
       "       [0.80634051, 0.19365949],\n",
       "       [0.02565292, 0.97434708],\n",
       "       [0.39744073, 0.60255927],\n",
       "       [0.90959218, 0.09040782],\n",
       "       [0.78064705, 0.21935295],\n",
       "       [0.86415382, 0.13584618],\n",
       "       [0.42144383, 0.57855617],\n",
       "       [0.89591529, 0.10408471],\n",
       "       [0.92784602, 0.07215398],\n",
       "       [0.22761886, 0.77238114],\n",
       "       [0.82651867, 0.17348133],\n",
       "       [0.88192555, 0.11807445],\n",
       "       [0.37398407, 0.62601593],\n",
       "       [0.90108819, 0.09891181],\n",
       "       [0.15978652, 0.84021348],\n",
       "       [0.11921803, 0.88078197],\n",
       "       [0.31791557, 0.68208443],\n",
       "       [0.36178724, 0.63821276],\n",
       "       [0.74358714, 0.25641286],\n",
       "       [0.56648851, 0.43351149],\n",
       "       [0.21622546, 0.78377454],\n",
       "       [0.36244092, 0.63755908],\n",
       "       [0.04147178, 0.95852822],\n",
       "       [0.30477934, 0.69522066],\n",
       "       [0.86415382, 0.13584618],\n",
       "       [0.8655131 , 0.1344869 ],\n",
       "       [0.99500267, 0.00499733],\n",
       "       [0.86415382, 0.13584618],\n",
       "       [0.86415382, 0.13584618],\n",
       "       [0.52384587, 0.47615413],\n",
       "       [0.01759054, 0.98240946],\n",
       "       [0.87635068, 0.12364932],\n",
       "       [0.95913906, 0.04086094],\n",
       "       [0.36417115, 0.63582885],\n",
       "       [0.80634051, 0.19365949],\n",
       "       [0.05011253, 0.94988747],\n",
       "       [0.9218615 , 0.0781385 ],\n",
       "       [0.78110194, 0.21889806],\n",
       "       [0.67895256, 0.32104744],\n",
       "       [0.30477934, 0.69522066],\n",
       "       [0.75293783, 0.24706217],\n",
       "       [0.73345469, 0.26654531],\n",
       "       [0.87118771, 0.12881229],\n",
       "       [0.84684784, 0.15315216],\n",
       "       [0.88192555, 0.11807445],\n",
       "       [0.7903628 , 0.2096372 ],\n",
       "       [0.0806372 , 0.9193628 ],\n",
       "       [0.85353057, 0.14646943],\n",
       "       [0.51322155, 0.48677845],\n",
       "       [0.77343724, 0.22656276],\n",
       "       [0.22051753, 0.77948247],\n",
       "       [0.70393665, 0.29606335],\n",
       "       [0.88163054, 0.11836946],\n",
       "       [0.83494788, 0.16505212],\n",
       "       [0.93736978, 0.06263022],\n",
       "       [0.88192555, 0.11807445],\n",
       "       [0.3623736 , 0.6376264 ],\n",
       "       [0.81397525, 0.18602475],\n",
       "       [0.65143825, 0.34856175],\n",
       "       [0.4553018 , 0.5446982 ]])"
      ]
     },
     "metadata": {},
     "execution_count": 64
    }
   ],
   "source": [
    "logreg.predict_proba(X_test)"
   ]
  },
  {
   "cell_type": "code",
   "execution_count": null,
   "metadata": {},
   "outputs": [],
   "source": []
  }
 ]
}